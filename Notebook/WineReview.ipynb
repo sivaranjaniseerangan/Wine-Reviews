{
 "cells": [
  {
   "cell_type": "markdown",
   "id": "d7e180ef",
   "metadata": {},
   "source": [
    "# Wine Review Analysis"
   ]
  },
  {
   "cell_type": "code",
   "execution_count": 74,
   "id": "9444f502",
   "metadata": {},
   "outputs": [],
   "source": [
    "import pandas as pd\n",
    "import numpy as np\n",
    "import matplotlib.pyplot as plt\n",
    "import seaborn as sns"
   ]
  },
  {
   "cell_type": "code",
   "execution_count": 75,
   "id": "c223e814",
   "metadata": {},
   "outputs": [],
   "source": [
    "column_names = [\"Index\", \"Country\", \"Description\", \"Designation\", \"Points\", \"Price\", \n",
    "             \"Province\", \"Region_1\", \"Region_2\", \"Variety\", \"Winery\"]"
   ]
  },
  {
   "cell_type": "code",
   "execution_count": 76,
   "id": "5412fca7",
   "metadata": {},
   "outputs": [],
   "source": [
    "df=pd.read_csv(\"winemag-data.csv\")"
   ]
  },
  {
   "cell_type": "code",
   "execution_count": 77,
   "id": "e0cf80c5",
   "metadata": {},
   "outputs": [
    {
     "data": {
      "text/html": [
       "<div>\n",
       "<style scoped>\n",
       "    .dataframe tbody tr th:only-of-type {\n",
       "        vertical-align: middle;\n",
       "    }\n",
       "\n",
       "    .dataframe tbody tr th {\n",
       "        vertical-align: top;\n",
       "    }\n",
       "\n",
       "    .dataframe thead th {\n",
       "        text-align: right;\n",
       "    }\n",
       "</style>\n",
       "<table border=\"1\" class=\"dataframe\">\n",
       "  <thead>\n",
       "    <tr style=\"text-align: right;\">\n",
       "      <th></th>\n",
       "      <th>Unnamed: 0</th>\n",
       "      <th>country</th>\n",
       "      <th>description</th>\n",
       "      <th>designation</th>\n",
       "      <th>points</th>\n",
       "      <th>price</th>\n",
       "      <th>province</th>\n",
       "      <th>region_1</th>\n",
       "      <th>region_2</th>\n",
       "      <th>variety</th>\n",
       "      <th>winery</th>\n",
       "    </tr>\n",
       "  </thead>\n",
       "  <tbody>\n",
       "    <tr>\n",
       "      <th>0</th>\n",
       "      <td>0</td>\n",
       "      <td>US</td>\n",
       "      <td>This tremendous 100% varietal wine hails from ...</td>\n",
       "      <td>Martha's Vineyard</td>\n",
       "      <td>96</td>\n",
       "      <td>235.0</td>\n",
       "      <td>California</td>\n",
       "      <td>Napa Valley</td>\n",
       "      <td>Napa</td>\n",
       "      <td>Cabernet Sauvignon</td>\n",
       "      <td>Heitz</td>\n",
       "    </tr>\n",
       "    <tr>\n",
       "      <th>1</th>\n",
       "      <td>1</td>\n",
       "      <td>Spain</td>\n",
       "      <td>Ripe aromas of fig, blackberry and cassis are ...</td>\n",
       "      <td>Carodorum Selección Especial Reserva</td>\n",
       "      <td>96</td>\n",
       "      <td>110.0</td>\n",
       "      <td>Northern Spain</td>\n",
       "      <td>Toro</td>\n",
       "      <td>NaN</td>\n",
       "      <td>Tinta de Toro</td>\n",
       "      <td>Bodega Carmen Rodríguez</td>\n",
       "    </tr>\n",
       "    <tr>\n",
       "      <th>2</th>\n",
       "      <td>2</td>\n",
       "      <td>US</td>\n",
       "      <td>Mac Watson honors the memory of a wine once ma...</td>\n",
       "      <td>Special Selected Late Harvest</td>\n",
       "      <td>96</td>\n",
       "      <td>90.0</td>\n",
       "      <td>California</td>\n",
       "      <td>Knights Valley</td>\n",
       "      <td>Sonoma</td>\n",
       "      <td>Sauvignon Blanc</td>\n",
       "      <td>Macauley</td>\n",
       "    </tr>\n",
       "    <tr>\n",
       "      <th>3</th>\n",
       "      <td>3</td>\n",
       "      <td>US</td>\n",
       "      <td>This spent 20 months in 30% new French oak, an...</td>\n",
       "      <td>Reserve</td>\n",
       "      <td>96</td>\n",
       "      <td>65.0</td>\n",
       "      <td>Oregon</td>\n",
       "      <td>Willamette Valley</td>\n",
       "      <td>Willamette Valley</td>\n",
       "      <td>Pinot Noir</td>\n",
       "      <td>Ponzi</td>\n",
       "    </tr>\n",
       "    <tr>\n",
       "      <th>4</th>\n",
       "      <td>4</td>\n",
       "      <td>France</td>\n",
       "      <td>This is the top wine from La Bégude, named aft...</td>\n",
       "      <td>La Brûlade</td>\n",
       "      <td>95</td>\n",
       "      <td>66.0</td>\n",
       "      <td>Provence</td>\n",
       "      <td>Bandol</td>\n",
       "      <td>NaN</td>\n",
       "      <td>Provence red blend</td>\n",
       "      <td>Domaine de la Bégude</td>\n",
       "    </tr>\n",
       "  </tbody>\n",
       "</table>\n",
       "</div>"
      ],
      "text/plain": [
       "   Unnamed: 0 country                                        description  \\\n",
       "0           0      US  This tremendous 100% varietal wine hails from ...   \n",
       "1           1   Spain  Ripe aromas of fig, blackberry and cassis are ...   \n",
       "2           2      US  Mac Watson honors the memory of a wine once ma...   \n",
       "3           3      US  This spent 20 months in 30% new French oak, an...   \n",
       "4           4  France  This is the top wine from La Bégude, named aft...   \n",
       "\n",
       "                            designation  points  price        province  \\\n",
       "0                     Martha's Vineyard      96  235.0      California   \n",
       "1  Carodorum Selección Especial Reserva      96  110.0  Northern Spain   \n",
       "2         Special Selected Late Harvest      96   90.0      California   \n",
       "3                               Reserve      96   65.0          Oregon   \n",
       "4                            La Brûlade      95   66.0        Provence   \n",
       "\n",
       "            region_1           region_2             variety  \\\n",
       "0        Napa Valley               Napa  Cabernet Sauvignon   \n",
       "1               Toro                NaN       Tinta de Toro   \n",
       "2     Knights Valley             Sonoma     Sauvignon Blanc   \n",
       "3  Willamette Valley  Willamette Valley          Pinot Noir   \n",
       "4             Bandol                NaN  Provence red blend   \n",
       "\n",
       "                    winery  \n",
       "0                    Heitz  \n",
       "1  Bodega Carmen Rodríguez  \n",
       "2                 Macauley  \n",
       "3                    Ponzi  \n",
       "4     Domaine de la Bégude  "
      ]
     },
     "execution_count": 77,
     "metadata": {},
     "output_type": "execute_result"
    }
   ],
   "source": [
    "df.head()"
   ]
  },
  {
   "cell_type": "code",
   "execution_count": 78,
   "id": "6c6a8e4d",
   "metadata": {},
   "outputs": [],
   "source": [
    "df.drop('Unnamed: 0',axis=1,inplace=True)"
   ]
  },
  {
   "cell_type": "code",
   "execution_count": 79,
   "id": "fb086663",
   "metadata": {},
   "outputs": [
    {
     "name": "stdout",
     "output_type": "stream",
     "text": [
      "<class 'pandas.core.frame.DataFrame'>\n",
      "RangeIndex: 150930 entries, 0 to 150929\n",
      "Data columns (total 10 columns):\n",
      " #   Column       Non-Null Count   Dtype  \n",
      "---  ------       --------------   -----  \n",
      " 0   country      150925 non-null  object \n",
      " 1   description  150930 non-null  object \n",
      " 2   designation  105195 non-null  object \n",
      " 3   points       150930 non-null  int64  \n",
      " 4   price        137235 non-null  float64\n",
      " 5   province     150925 non-null  object \n",
      " 6   region_1     125870 non-null  object \n",
      " 7   region_2     60953 non-null   object \n",
      " 8   variety      150930 non-null  object \n",
      " 9   winery       150930 non-null  object \n",
      "dtypes: float64(1), int64(1), object(8)\n",
      "memory usage: 11.5+ MB\n"
     ]
    }
   ],
   "source": [
    "df.info()"
   ]
  },
  {
   "cell_type": "code",
   "execution_count": 80,
   "id": "974f23bd",
   "metadata": {},
   "outputs": [
    {
     "data": {
      "text/plain": [
       "country         True\n",
       "description    False\n",
       "designation     True\n",
       "points         False\n",
       "price           True\n",
       "province        True\n",
       "region_1        True\n",
       "region_2        True\n",
       "variety        False\n",
       "winery         False\n",
       "dtype: bool"
      ]
     },
     "execution_count": 80,
     "metadata": {},
     "output_type": "execute_result"
    }
   ],
   "source": [
    "df.isnull().any()"
   ]
  },
  {
   "cell_type": "code",
   "execution_count": 81,
   "id": "a978dafb",
   "metadata": {},
   "outputs": [
    {
     "data": {
      "text/plain": [
       "country            5\n",
       "description        0\n",
       "designation    45735\n",
       "points             0\n",
       "price          13695\n",
       "province           5\n",
       "region_1       25060\n",
       "region_2       89977\n",
       "variety            0\n",
       "winery             0\n",
       "dtype: int64"
      ]
     },
     "execution_count": 81,
     "metadata": {},
     "output_type": "execute_result"
    }
   ],
   "source": [
    "df.isnull().sum()"
   ]
  },
  {
   "cell_type": "code",
   "execution_count": 82,
   "id": "8f8917a6",
   "metadata": {},
   "outputs": [
    {
     "data": {
      "text/html": [
       "<div>\n",
       "<style scoped>\n",
       "    .dataframe tbody tr th:only-of-type {\n",
       "        vertical-align: middle;\n",
       "    }\n",
       "\n",
       "    .dataframe tbody tr th {\n",
       "        vertical-align: top;\n",
       "    }\n",
       "\n",
       "    .dataframe thead th {\n",
       "        text-align: right;\n",
       "    }\n",
       "</style>\n",
       "<table border=\"1\" class=\"dataframe\">\n",
       "  <thead>\n",
       "    <tr style=\"text-align: right;\">\n",
       "      <th></th>\n",
       "      <th>country</th>\n",
       "      <th>description</th>\n",
       "      <th>designation</th>\n",
       "      <th>points</th>\n",
       "      <th>price</th>\n",
       "      <th>province</th>\n",
       "      <th>region_1</th>\n",
       "      <th>region_2</th>\n",
       "      <th>variety</th>\n",
       "      <th>winery</th>\n",
       "    </tr>\n",
       "  </thead>\n",
       "  <tbody>\n",
       "    <tr>\n",
       "      <th>1133</th>\n",
       "      <td>NaN</td>\n",
       "      <td>Delicate white flowers and a spin of lemon pee...</td>\n",
       "      <td>Askitikos</td>\n",
       "      <td>90</td>\n",
       "      <td>17.0</td>\n",
       "      <td>NaN</td>\n",
       "      <td>NaN</td>\n",
       "      <td>NaN</td>\n",
       "      <td>Assyrtiko</td>\n",
       "      <td>Tsililis</td>\n",
       "    </tr>\n",
       "    <tr>\n",
       "      <th>1440</th>\n",
       "      <td>NaN</td>\n",
       "      <td>A blend of 60% Syrah, 30% Cabernet Sauvignon a...</td>\n",
       "      <td>Shah</td>\n",
       "      <td>90</td>\n",
       "      <td>30.0</td>\n",
       "      <td>NaN</td>\n",
       "      <td>NaN</td>\n",
       "      <td>NaN</td>\n",
       "      <td>Red Blend</td>\n",
       "      <td>Büyülübağ</td>\n",
       "    </tr>\n",
       "    <tr>\n",
       "      <th>68226</th>\n",
       "      <td>NaN</td>\n",
       "      <td>From first sniff to last, the nose never makes...</td>\n",
       "      <td>Piedra Feliz</td>\n",
       "      <td>81</td>\n",
       "      <td>15.0</td>\n",
       "      <td>NaN</td>\n",
       "      <td>NaN</td>\n",
       "      <td>NaN</td>\n",
       "      <td>Pinot Noir</td>\n",
       "      <td>Chilcas</td>\n",
       "    </tr>\n",
       "    <tr>\n",
       "      <th>113016</th>\n",
       "      <td>NaN</td>\n",
       "      <td>From first sniff to last, the nose never makes...</td>\n",
       "      <td>Piedra Feliz</td>\n",
       "      <td>81</td>\n",
       "      <td>15.0</td>\n",
       "      <td>NaN</td>\n",
       "      <td>NaN</td>\n",
       "      <td>NaN</td>\n",
       "      <td>Pinot Noir</td>\n",
       "      <td>Chilcas</td>\n",
       "    </tr>\n",
       "    <tr>\n",
       "      <th>135696</th>\n",
       "      <td>NaN</td>\n",
       "      <td>From first sniff to last, the nose never makes...</td>\n",
       "      <td>Piedra Feliz</td>\n",
       "      <td>81</td>\n",
       "      <td>15.0</td>\n",
       "      <td>NaN</td>\n",
       "      <td>NaN</td>\n",
       "      <td>NaN</td>\n",
       "      <td>Pinot Noir</td>\n",
       "      <td>Chilcas</td>\n",
       "    </tr>\n",
       "  </tbody>\n",
       "</table>\n",
       "</div>"
      ],
      "text/plain": [
       "       country                                        description  \\\n",
       "1133       NaN  Delicate white flowers and a spin of lemon pee...   \n",
       "1440       NaN  A blend of 60% Syrah, 30% Cabernet Sauvignon a...   \n",
       "68226      NaN  From first sniff to last, the nose never makes...   \n",
       "113016     NaN  From first sniff to last, the nose never makes...   \n",
       "135696     NaN  From first sniff to last, the nose never makes...   \n",
       "\n",
       "         designation  points  price province region_1 region_2     variety  \\\n",
       "1133       Askitikos      90   17.0      NaN      NaN      NaN   Assyrtiko   \n",
       "1440            Shah      90   30.0      NaN      NaN      NaN   Red Blend   \n",
       "68226   Piedra Feliz      81   15.0      NaN      NaN      NaN  Pinot Noir   \n",
       "113016  Piedra Feliz      81   15.0      NaN      NaN      NaN  Pinot Noir   \n",
       "135696  Piedra Feliz      81   15.0      NaN      NaN      NaN  Pinot Noir   \n",
       "\n",
       "           winery  \n",
       "1133     Tsililis  \n",
       "1440    Büyülübağ  \n",
       "68226     Chilcas  \n",
       "113016    Chilcas  \n",
       "135696    Chilcas  "
      ]
     },
     "execution_count": 82,
     "metadata": {},
     "output_type": "execute_result"
    }
   ],
   "source": [
    "df[df.country.isnull()]"
   ]
  },
  {
   "cell_type": "code",
   "execution_count": 83,
   "id": "8842d570",
   "metadata": {},
   "outputs": [
    {
     "data": {
      "text/plain": [
       "(150930, 10)"
      ]
     },
     "execution_count": 83,
     "metadata": {},
     "output_type": "execute_result"
    }
   ],
   "source": [
    "df.shape"
   ]
  },
  {
   "cell_type": "code",
   "execution_count": 84,
   "id": "57592ad2",
   "metadata": {},
   "outputs": [],
   "source": [
    "df =df.dropna(how=\"any\", subset=[\"country\"])"
   ]
  },
  {
   "cell_type": "code",
   "execution_count": 85,
   "id": "a4c1e4e2",
   "metadata": {},
   "outputs": [
    {
     "data": {
      "text/plain": [
       "(150925, 10)"
      ]
     },
     "execution_count": 85,
     "metadata": {},
     "output_type": "execute_result"
    }
   ],
   "source": [
    "df.shape"
   ]
  },
  {
   "cell_type": "code",
   "execution_count": 86,
   "id": "829c0ec0",
   "metadata": {},
   "outputs": [
    {
     "data": {
      "text/html": [
       "<div>\n",
       "<style scoped>\n",
       "    .dataframe tbody tr th:only-of-type {\n",
       "        vertical-align: middle;\n",
       "    }\n",
       "\n",
       "    .dataframe tbody tr th {\n",
       "        vertical-align: top;\n",
       "    }\n",
       "\n",
       "    .dataframe thead th {\n",
       "        text-align: right;\n",
       "    }\n",
       "</style>\n",
       "<table border=\"1\" class=\"dataframe\">\n",
       "  <thead>\n",
       "    <tr style=\"text-align: right;\">\n",
       "      <th></th>\n",
       "      <th>country</th>\n",
       "      <th>description</th>\n",
       "      <th>designation</th>\n",
       "      <th>points</th>\n",
       "      <th>price</th>\n",
       "      <th>province</th>\n",
       "      <th>region_1</th>\n",
       "      <th>region_2</th>\n",
       "      <th>variety</th>\n",
       "      <th>winery</th>\n",
       "    </tr>\n",
       "  </thead>\n",
       "  <tbody>\n",
       "  </tbody>\n",
       "</table>\n",
       "</div>"
      ],
      "text/plain": [
       "Empty DataFrame\n",
       "Columns: [country, description, designation, points, price, province, region_1, region_2, variety, winery]\n",
       "Index: []"
      ]
     },
     "execution_count": 86,
     "metadata": {},
     "output_type": "execute_result"
    }
   ],
   "source": [
    "df[df.country.isnull()]"
   ]
  },
  {
   "cell_type": "code",
   "execution_count": 87,
   "id": "2a87bd56",
   "metadata": {},
   "outputs": [
    {
     "name": "stdout",
     "output_type": "stream",
     "text": [
      "Missing prices: 13695\n",
      "Total records: 150925\n",
      "Percentage remaining: 90.93%\n"
     ]
    }
   ],
   "source": [
    "# Calculate the percentage of remaining records if missing prices are dropped:\n",
    "total_records = len(df)\n",
    "missing_prices = df[\"price\"].isnull().sum()\n",
    "missing_ratio = 100 - ((missing_prices / total_records) * 100)\n",
    "print(\"Missing prices: {}\".format(missing_prices)+ \"\\n\" +\n",
    "      \"Total records: {}\".format(total_records) + \"\\n\" + \n",
    "      \"Percentage remaining: {:.2f}%\".format(missing_ratio))"
   ]
  },
  {
   "cell_type": "code",
   "execution_count": 88,
   "id": "921a1340",
   "metadata": {},
   "outputs": [
    {
     "data": {
      "text/plain": [
       "(150925, 10)"
      ]
     },
     "execution_count": 88,
     "metadata": {},
     "output_type": "execute_result"
    }
   ],
   "source": [
    "df.shape"
   ]
  },
  {
   "cell_type": "code",
   "execution_count": 89,
   "id": "dec11090",
   "metadata": {},
   "outputs": [],
   "source": [
    "df = df.dropna(how=\"any\", subset=[\"price\"])"
   ]
  },
  {
   "cell_type": "code",
   "execution_count": 90,
   "id": "4ccc9fbc",
   "metadata": {},
   "outputs": [
    {
     "data": {
      "text/plain": [
       "(137230, 10)"
      ]
     },
     "execution_count": 90,
     "metadata": {},
     "output_type": "execute_result"
    }
   ],
   "source": [
    "df.shape"
   ]
  },
  {
   "cell_type": "code",
   "execution_count": 91,
   "id": "eefe004d",
   "metadata": {},
   "outputs": [
    {
     "name": "stdout",
     "output_type": "stream",
     "text": [
      "Records without null values:\n",
      "(rows, columns)\t (97989, 10)\n"
     ]
    }
   ],
   "source": [
    "null_val = df[df.isnull().any(axis=1)].shape\n",
    "print(\"Records without null values:\\n(rows, columns)\\t {}\".format(null_val))"
   ]
  },
  {
   "cell_type": "code",
   "execution_count": 92,
   "id": "dff27c00",
   "metadata": {},
   "outputs": [
    {
     "name": "stdout",
     "output_type": "stream",
     "text": [
      "Total complete records: \t\t97989\n",
      "Total records: \t\t\t\t137230\n",
      "Completion ratio: \t\t\t71.40%\n"
     ]
    }
   ],
   "source": [
    "complete_rows = int(null_val[0])\n",
    "total_rows = len(df)\n",
    "completion_ratio = ((complete_rows / total_rows) * 100)\n",
    "\n",
    "print(\"Total complete records: \\t\\t{}\".format(complete_rows) +\n",
    "      \"\\nTotal records: \\t\\t\\t\\t{}\".format(total_rows) +\n",
    "      \"\\nCompletion ratio: \\t\\t\\t{:.2f}%\".format(completion_ratio))"
   ]
  },
  {
   "cell_type": "code",
   "execution_count": 93,
   "id": "9ebe0e59",
   "metadata": {},
   "outputs": [
    {
     "data": {
      "text/html": [
       "<div>\n",
       "<style scoped>\n",
       "    .dataframe tbody tr th:only-of-type {\n",
       "        vertical-align: middle;\n",
       "    }\n",
       "\n",
       "    .dataframe tbody tr th {\n",
       "        vertical-align: top;\n",
       "    }\n",
       "\n",
       "    .dataframe thead th {\n",
       "        text-align: right;\n",
       "    }\n",
       "</style>\n",
       "<table border=\"1\" class=\"dataframe\">\n",
       "  <thead>\n",
       "    <tr style=\"text-align: right;\">\n",
       "      <th></th>\n",
       "      <th>points</th>\n",
       "      <th>price</th>\n",
       "    </tr>\n",
       "  </thead>\n",
       "  <tbody>\n",
       "    <tr>\n",
       "      <th>count</th>\n",
       "      <td>137230.000000</td>\n",
       "      <td>137230.000000</td>\n",
       "    </tr>\n",
       "    <tr>\n",
       "      <th>mean</th>\n",
       "      <td>87.788035</td>\n",
       "      <td>33.132019</td>\n",
       "    </tr>\n",
       "    <tr>\n",
       "      <th>std</th>\n",
       "      <td>3.221572</td>\n",
       "      <td>36.323072</td>\n",
       "    </tr>\n",
       "    <tr>\n",
       "      <th>min</th>\n",
       "      <td>80.000000</td>\n",
       "      <td>4.000000</td>\n",
       "    </tr>\n",
       "    <tr>\n",
       "      <th>25%</th>\n",
       "      <td>86.000000</td>\n",
       "      <td>16.000000</td>\n",
       "    </tr>\n",
       "    <tr>\n",
       "      <th>50%</th>\n",
       "      <td>88.000000</td>\n",
       "      <td>24.000000</td>\n",
       "    </tr>\n",
       "    <tr>\n",
       "      <th>75%</th>\n",
       "      <td>90.000000</td>\n",
       "      <td>40.000000</td>\n",
       "    </tr>\n",
       "    <tr>\n",
       "      <th>max</th>\n",
       "      <td>100.000000</td>\n",
       "      <td>2300.000000</td>\n",
       "    </tr>\n",
       "  </tbody>\n",
       "</table>\n",
       "</div>"
      ],
      "text/plain": [
       "              points          price\n",
       "count  137230.000000  137230.000000\n",
       "mean       87.788035      33.132019\n",
       "std         3.221572      36.323072\n",
       "min        80.000000       4.000000\n",
       "25%        86.000000      16.000000\n",
       "50%        88.000000      24.000000\n",
       "75%        90.000000      40.000000\n",
       "max       100.000000    2300.000000"
      ]
     },
     "execution_count": 93,
     "metadata": {},
     "output_type": "execute_result"
    }
   ],
   "source": [
    "df.describe()"
   ]
  },
  {
   "cell_type": "code",
   "execution_count": 94,
   "id": "4fcf64f5",
   "metadata": {},
   "outputs": [
    {
     "data": {
      "text/html": [
       "<div>\n",
       "<style scoped>\n",
       "    .dataframe tbody tr th:only-of-type {\n",
       "        vertical-align: middle;\n",
       "    }\n",
       "\n",
       "    .dataframe tbody tr th {\n",
       "        vertical-align: top;\n",
       "    }\n",
       "\n",
       "    .dataframe thead th {\n",
       "        text-align: right;\n",
       "    }\n",
       "</style>\n",
       "<table border=\"1\" class=\"dataframe\">\n",
       "  <thead>\n",
       "    <tr style=\"text-align: right;\">\n",
       "      <th></th>\n",
       "      <th>count</th>\n",
       "      <th>unique</th>\n",
       "      <th>top</th>\n",
       "      <th>freq</th>\n",
       "    </tr>\n",
       "  </thead>\n",
       "  <tbody>\n",
       "    <tr>\n",
       "      <th>country</th>\n",
       "      <td>137230</td>\n",
       "      <td>46</td>\n",
       "      <td>US</td>\n",
       "      <td>62139</td>\n",
       "    </tr>\n",
       "    <tr>\n",
       "      <th>description</th>\n",
       "      <td>137230</td>\n",
       "      <td>89105</td>\n",
       "      <td>Powerful in Zinny character, this blend of Dry...</td>\n",
       "      <td>6</td>\n",
       "    </tr>\n",
       "    <tr>\n",
       "      <th>designation</th>\n",
       "      <td>94919</td>\n",
       "      <td>28343</td>\n",
       "      <td>Reserve</td>\n",
       "      <td>2704</td>\n",
       "    </tr>\n",
       "    <tr>\n",
       "      <th>province</th>\n",
       "      <td>137230</td>\n",
       "      <td>446</td>\n",
       "      <td>California</td>\n",
       "      <td>44356</td>\n",
       "    </tr>\n",
       "    <tr>\n",
       "      <th>region_1</th>\n",
       "      <td>114393</td>\n",
       "      <td>1197</td>\n",
       "      <td>Napa Valley</td>\n",
       "      <td>6191</td>\n",
       "    </tr>\n",
       "    <tr>\n",
       "      <th>region_2</th>\n",
       "      <td>60704</td>\n",
       "      <td>18</td>\n",
       "      <td>Central Coast</td>\n",
       "      <td>12987</td>\n",
       "    </tr>\n",
       "    <tr>\n",
       "      <th>variety</th>\n",
       "      <td>137230</td>\n",
       "      <td>619</td>\n",
       "      <td>Chardonnay</td>\n",
       "      <td>13775</td>\n",
       "    </tr>\n",
       "    <tr>\n",
       "      <th>winery</th>\n",
       "      <td>137230</td>\n",
       "      <td>13851</td>\n",
       "      <td>Williams Selyem</td>\n",
       "      <td>371</td>\n",
       "    </tr>\n",
       "  </tbody>\n",
       "</table>\n",
       "</div>"
      ],
      "text/plain": [
       "              count unique                                                top  \\\n",
       "country      137230     46                                                 US   \n",
       "description  137230  89105  Powerful in Zinny character, this blend of Dry...   \n",
       "designation   94919  28343                                            Reserve   \n",
       "province     137230    446                                         California   \n",
       "region_1     114393   1197                                        Napa Valley   \n",
       "region_2      60704     18                                      Central Coast   \n",
       "variety      137230    619                                         Chardonnay   \n",
       "winery       137230  13851                                    Williams Selyem   \n",
       "\n",
       "              freq  \n",
       "country      62139  \n",
       "description      6  \n",
       "designation   2704  \n",
       "province     44356  \n",
       "region_1      6191  \n",
       "region_2     12987  \n",
       "variety      13775  \n",
       "winery         371  "
      ]
     },
     "execution_count": 94,
     "metadata": {},
     "output_type": "execute_result"
    }
   ],
   "source": [
    "df.describe(include='object').T"
   ]
  },
  {
   "cell_type": "code",
   "execution_count": 95,
   "id": "28a0970c",
   "metadata": {},
   "outputs": [
    {
     "name": "stderr",
     "output_type": "stream",
     "text": [
      "C:\\Users\\sivar\\AppData\\Local\\Temp\\ipykernel_14208\\3390915376.py:1: FutureWarning: Dropping of nuisance columns in DataFrame reductions (with 'numeric_only=None') is deprecated; in a future version this will raise TypeError.  Select only valid columns before calling the reduction.\n",
      "  df.std()\n"
     ]
    },
    {
     "data": {
      "text/plain": [
       "points     3.221572\n",
       "price     36.323072\n",
       "dtype: float64"
      ]
     },
     "execution_count": 95,
     "metadata": {},
     "output_type": "execute_result"
    }
   ],
   "source": [
    "df.std()"
   ]
  },
  {
   "cell_type": "code",
   "execution_count": 96,
   "id": "7abe065b",
   "metadata": {},
   "outputs": [
    {
     "name": "stderr",
     "output_type": "stream",
     "text": [
      "C:\\Users\\sivar\\AppData\\Local\\Temp\\ipykernel_14208\\1568254755.py:1: FutureWarning: Dropping of nuisance columns in DataFrame reductions (with 'numeric_only=None') is deprecated; in a future version this will raise TypeError.  Select only valid columns before calling the reduction.\n",
      "  df.var()\n"
     ]
    },
    {
     "data": {
      "text/plain": [
       "points      10.378523\n",
       "price     1319.365551\n",
       "dtype: float64"
      ]
     },
     "execution_count": 96,
     "metadata": {},
     "output_type": "execute_result"
    }
   ],
   "source": [
    "df.var()"
   ]
  },
  {
   "cell_type": "code",
   "execution_count": 97,
   "id": "5908eabc",
   "metadata": {},
   "outputs": [
    {
     "name": "stdout",
     "output_type": "stream",
     "text": [
      "Number of Countries reviewed: 46\n"
     ]
    }
   ],
   "source": [
    "# Total amount of Countries featured in the reviews:\n",
    "total_countries = df[\"country\"].unique()\n",
    "print(\"Number of Countries reviewed: {}\".format(len(total_countries)))"
   ]
  },
  {
   "cell_type": "code",
   "execution_count": 98,
   "id": "7f86d920",
   "metadata": {},
   "outputs": [
    {
     "name": "stdout",
     "output_type": "stream",
     "text": [
      "Total amount of unique countries: 46\n",
      "['US' 'Spain' 'France' 'Italy' 'New Zealand' 'Bulgaria' 'Argentina'\n",
      " 'Australia' 'Portugal' 'Israel' 'South Africa' 'Greece' 'Chile' 'Morocco'\n",
      " 'Romania' 'Germany' 'Canada' 'Moldova' 'Hungary' 'Austria' 'Croatia'\n",
      " 'Slovenia' 'India' 'Turkey' 'Macedonia' 'Lebanon' 'Serbia' 'Uruguay'\n",
      " 'Switzerland' 'Albania' 'Bosnia and Herzegovina' 'Brazil' 'Cyprus'\n",
      " 'Lithuania' 'Japan' 'China' 'South Korea' 'Ukraine' 'England' 'Mexico'\n",
      " 'Georgia' 'Montenegro' 'Luxembourg' 'Slovakia' 'Czech Republic'\n",
      " 'US-France']\n"
     ]
    }
   ],
   "source": [
    "# The unique countries in the reviews:\n",
    "unique_countries = df[\"country\"].unique()\n",
    "print(\"Total amount of unique countries: {}\".format(len(unique_countries)))\n",
    "print(unique_countries)"
   ]
  },
  {
   "cell_type": "code",
   "execution_count": 99,
   "id": "6dd2ab80",
   "metadata": {},
   "outputs": [
    {
     "name": "stdout",
     "output_type": "stream",
     "text": [
      "Total amount of Reviews submitted for each country: \n",
      "\n",
      "US              62139\n",
      "Italy           18784\n",
      "France          14785\n",
      "Spain            8160\n",
      "Chile            5766\n",
      "Argentina        5587\n",
      "Australia        4894\n",
      "Portugal         4176\n",
      "New Zealand      3070\n",
      "Austria          2483\n",
      "Germany          2347\n",
      "South Africa     2237\n",
      "Greece            872\n",
      "Israel            610\n",
      "Hungary           230\n",
      "Canada            194\n",
      "Romania           139\n",
      "Uruguay            85\n",
      "Croatia            83\n",
      "Slovenia           81\n",
      "Bulgaria           77\n",
      "Moldova            71\n",
      "Mexico             63\n",
      "Turkey             50\n",
      "Georgia            43\n",
      "Name: country, dtype: int64\n"
     ]
    }
   ],
   "source": [
    "# Total wine reviews per country (Top 25)\n",
    "review_totals_by_country = df[\"country\"].value_counts().head(25)\n",
    "print(\"Total amount of Reviews submitted for each country: \\n\")\n",
    "print(review_totals_by_country)"
   ]
  },
  {
   "cell_type": "code",
   "execution_count": 100,
   "id": "80117f09",
   "metadata": {},
   "outputs": [
    {
     "data": {
      "text/plain": [
       "country\n",
       "Albania                       Kallmet\n",
       "Argentina                 White Blend\n",
       "Australia                   Zinfandel\n",
       "Austria                      Zweigelt\n",
       "Bosnia and Herzegovina         Vranec\n",
       "Brazil                         Tannat\n",
       "Bulgaria                  White Blend\n",
       "Canada                    White Blend\n",
       "Chile                     White Blend\n",
       "China                     White Blend\n",
       "Name: variety, dtype: object"
      ]
     },
     "execution_count": 100,
     "metadata": {},
     "output_type": "execute_result"
    }
   ],
   "source": [
    "# Group country by the most common Variety reviewed (first ten).\n",
    "df.groupby(\"country\").variety.max().head(10)"
   ]
  },
  {
   "cell_type": "code",
   "execution_count": 101,
   "id": "96c3446c",
   "metadata": {},
   "outputs": [
    {
     "data": {
      "text/html": [
       "<div>\n",
       "<style scoped>\n",
       "    .dataframe tbody tr th:only-of-type {\n",
       "        vertical-align: middle;\n",
       "    }\n",
       "\n",
       "    .dataframe tbody tr th {\n",
       "        vertical-align: top;\n",
       "    }\n",
       "\n",
       "    .dataframe thead th {\n",
       "        text-align: right;\n",
       "    }\n",
       "</style>\n",
       "<table border=\"1\" class=\"dataframe\">\n",
       "  <thead>\n",
       "    <tr style=\"text-align: right;\">\n",
       "      <th></th>\n",
       "      <th>len</th>\n",
       "      <th>min</th>\n",
       "      <th>max</th>\n",
       "    </tr>\n",
       "    <tr>\n",
       "      <th>country</th>\n",
       "      <th></th>\n",
       "      <th></th>\n",
       "      <th></th>\n",
       "    </tr>\n",
       "  </thead>\n",
       "  <tbody>\n",
       "    <tr>\n",
       "      <th>Albania</th>\n",
       "      <td>2</td>\n",
       "      <td>88</td>\n",
       "      <td>88</td>\n",
       "    </tr>\n",
       "    <tr>\n",
       "      <th>Argentina</th>\n",
       "      <td>5587</td>\n",
       "      <td>80</td>\n",
       "      <td>97</td>\n",
       "    </tr>\n",
       "    <tr>\n",
       "      <th>Australia</th>\n",
       "      <td>4894</td>\n",
       "      <td>80</td>\n",
       "      <td>100</td>\n",
       "    </tr>\n",
       "    <tr>\n",
       "      <th>Austria</th>\n",
       "      <td>2483</td>\n",
       "      <td>81</td>\n",
       "      <td>98</td>\n",
       "    </tr>\n",
       "    <tr>\n",
       "      <th>Bosnia and Herzegovina</th>\n",
       "      <td>4</td>\n",
       "      <td>83</td>\n",
       "      <td>88</td>\n",
       "    </tr>\n",
       "    <tr>\n",
       "      <th>Brazil</th>\n",
       "      <td>25</td>\n",
       "      <td>81</td>\n",
       "      <td>88</td>\n",
       "    </tr>\n",
       "    <tr>\n",
       "      <th>Bulgaria</th>\n",
       "      <td>77</td>\n",
       "      <td>80</td>\n",
       "      <td>90</td>\n",
       "    </tr>\n",
       "    <tr>\n",
       "      <th>Canada</th>\n",
       "      <td>194</td>\n",
       "      <td>82</td>\n",
       "      <td>93</td>\n",
       "    </tr>\n",
       "    <tr>\n",
       "      <th>Chile</th>\n",
       "      <td>5766</td>\n",
       "      <td>80</td>\n",
       "      <td>95</td>\n",
       "    </tr>\n",
       "    <tr>\n",
       "      <th>China</th>\n",
       "      <td>3</td>\n",
       "      <td>82</td>\n",
       "      <td>82</td>\n",
       "    </tr>\n",
       "    <tr>\n",
       "      <th>Croatia</th>\n",
       "      <td>83</td>\n",
       "      <td>81</td>\n",
       "      <td>91</td>\n",
       "    </tr>\n",
       "    <tr>\n",
       "      <th>Cyprus</th>\n",
       "      <td>31</td>\n",
       "      <td>80</td>\n",
       "      <td>89</td>\n",
       "    </tr>\n",
       "    <tr>\n",
       "      <th>Czech Republic</th>\n",
       "      <td>6</td>\n",
       "      <td>85</td>\n",
       "      <td>87</td>\n",
       "    </tr>\n",
       "    <tr>\n",
       "      <th>England</th>\n",
       "      <td>8</td>\n",
       "      <td>91</td>\n",
       "      <td>94</td>\n",
       "    </tr>\n",
       "    <tr>\n",
       "      <th>France</th>\n",
       "      <td>14785</td>\n",
       "      <td>80</td>\n",
       "      <td>100</td>\n",
       "    </tr>\n",
       "    <tr>\n",
       "      <th>Georgia</th>\n",
       "      <td>43</td>\n",
       "      <td>81</td>\n",
       "      <td>92</td>\n",
       "    </tr>\n",
       "    <tr>\n",
       "      <th>Germany</th>\n",
       "      <td>2347</td>\n",
       "      <td>80</td>\n",
       "      <td>97</td>\n",
       "    </tr>\n",
       "    <tr>\n",
       "      <th>Greece</th>\n",
       "      <td>872</td>\n",
       "      <td>80</td>\n",
       "      <td>92</td>\n",
       "    </tr>\n",
       "    <tr>\n",
       "      <th>Hungary</th>\n",
       "      <td>230</td>\n",
       "      <td>80</td>\n",
       "      <td>96</td>\n",
       "    </tr>\n",
       "    <tr>\n",
       "      <th>India</th>\n",
       "      <td>8</td>\n",
       "      <td>82</td>\n",
       "      <td>91</td>\n",
       "    </tr>\n",
       "    <tr>\n",
       "      <th>Israel</th>\n",
       "      <td>610</td>\n",
       "      <td>80</td>\n",
       "      <td>93</td>\n",
       "    </tr>\n",
       "    <tr>\n",
       "      <th>Italy</th>\n",
       "      <td>18784</td>\n",
       "      <td>80</td>\n",
       "      <td>100</td>\n",
       "    </tr>\n",
       "    <tr>\n",
       "      <th>Japan</th>\n",
       "      <td>2</td>\n",
       "      <td>85</td>\n",
       "      <td>85</td>\n",
       "    </tr>\n",
       "    <tr>\n",
       "      <th>Lebanon</th>\n",
       "      <td>37</td>\n",
       "      <td>81</td>\n",
       "      <td>91</td>\n",
       "    </tr>\n",
       "    <tr>\n",
       "      <th>Lithuania</th>\n",
       "      <td>8</td>\n",
       "      <td>84</td>\n",
       "      <td>85</td>\n",
       "    </tr>\n",
       "    <tr>\n",
       "      <th>Luxembourg</th>\n",
       "      <td>9</td>\n",
       "      <td>86</td>\n",
       "      <td>88</td>\n",
       "    </tr>\n",
       "    <tr>\n",
       "      <th>Macedonia</th>\n",
       "      <td>16</td>\n",
       "      <td>81</td>\n",
       "      <td>89</td>\n",
       "    </tr>\n",
       "    <tr>\n",
       "      <th>Mexico</th>\n",
       "      <td>63</td>\n",
       "      <td>80</td>\n",
       "      <td>92</td>\n",
       "    </tr>\n",
       "    <tr>\n",
       "      <th>Moldova</th>\n",
       "      <td>71</td>\n",
       "      <td>81</td>\n",
       "      <td>90</td>\n",
       "    </tr>\n",
       "    <tr>\n",
       "      <th>Montenegro</th>\n",
       "      <td>2</td>\n",
       "      <td>82</td>\n",
       "      <td>82</td>\n",
       "    </tr>\n",
       "    <tr>\n",
       "      <th>Morocco</th>\n",
       "      <td>12</td>\n",
       "      <td>82</td>\n",
       "      <td>93</td>\n",
       "    </tr>\n",
       "    <tr>\n",
       "      <th>New Zealand</th>\n",
       "      <td>3070</td>\n",
       "      <td>80</td>\n",
       "      <td>94</td>\n",
       "    </tr>\n",
       "    <tr>\n",
       "      <th>Portugal</th>\n",
       "      <td>4176</td>\n",
       "      <td>80</td>\n",
       "      <td>99</td>\n",
       "    </tr>\n",
       "    <tr>\n",
       "      <th>Romania</th>\n",
       "      <td>139</td>\n",
       "      <td>80</td>\n",
       "      <td>92</td>\n",
       "    </tr>\n",
       "    <tr>\n",
       "      <th>Serbia</th>\n",
       "      <td>14</td>\n",
       "      <td>86</td>\n",
       "      <td>89</td>\n",
       "    </tr>\n",
       "    <tr>\n",
       "      <th>Slovakia</th>\n",
       "      <td>3</td>\n",
       "      <td>82</td>\n",
       "      <td>87</td>\n",
       "    </tr>\n",
       "    <tr>\n",
       "      <th>Slovenia</th>\n",
       "      <td>81</td>\n",
       "      <td>82</td>\n",
       "      <td>92</td>\n",
       "    </tr>\n",
       "    <tr>\n",
       "      <th>South Africa</th>\n",
       "      <td>2237</td>\n",
       "      <td>80</td>\n",
       "      <td>95</td>\n",
       "    </tr>\n",
       "    <tr>\n",
       "      <th>South Korea</th>\n",
       "      <td>4</td>\n",
       "      <td>81</td>\n",
       "      <td>82</td>\n",
       "    </tr>\n",
       "    <tr>\n",
       "      <th>Spain</th>\n",
       "      <td>8160</td>\n",
       "      <td>80</td>\n",
       "      <td>98</td>\n",
       "    </tr>\n",
       "    <tr>\n",
       "      <th>Switzerland</th>\n",
       "      <td>4</td>\n",
       "      <td>83</td>\n",
       "      <td>90</td>\n",
       "    </tr>\n",
       "    <tr>\n",
       "      <th>Turkey</th>\n",
       "      <td>50</td>\n",
       "      <td>84</td>\n",
       "      <td>92</td>\n",
       "    </tr>\n",
       "    <tr>\n",
       "      <th>US</th>\n",
       "      <td>62139</td>\n",
       "      <td>80</td>\n",
       "      <td>100</td>\n",
       "    </tr>\n",
       "    <tr>\n",
       "      <th>US-France</th>\n",
       "      <td>1</td>\n",
       "      <td>88</td>\n",
       "      <td>88</td>\n",
       "    </tr>\n",
       "    <tr>\n",
       "      <th>Ukraine</th>\n",
       "      <td>5</td>\n",
       "      <td>83</td>\n",
       "      <td>86</td>\n",
       "    </tr>\n",
       "    <tr>\n",
       "      <th>Uruguay</th>\n",
       "      <td>85</td>\n",
       "      <td>80</td>\n",
       "      <td>90</td>\n",
       "    </tr>\n",
       "  </tbody>\n",
       "</table>\n",
       "</div>"
      ],
      "text/plain": [
       "                          len  min  max\n",
       "country                                \n",
       "Albania                     2   88   88\n",
       "Argentina                5587   80   97\n",
       "Australia                4894   80  100\n",
       "Austria                  2483   81   98\n",
       "Bosnia and Herzegovina      4   83   88\n",
       "Brazil                     25   81   88\n",
       "Bulgaria                   77   80   90\n",
       "Canada                    194   82   93\n",
       "Chile                    5766   80   95\n",
       "China                       3   82   82\n",
       "Croatia                    83   81   91\n",
       "Cyprus                     31   80   89\n",
       "Czech Republic              6   85   87\n",
       "England                     8   91   94\n",
       "France                  14785   80  100\n",
       "Georgia                    43   81   92\n",
       "Germany                  2347   80   97\n",
       "Greece                    872   80   92\n",
       "Hungary                   230   80   96\n",
       "India                       8   82   91\n",
       "Israel                    610   80   93\n",
       "Italy                   18784   80  100\n",
       "Japan                       2   85   85\n",
       "Lebanon                    37   81   91\n",
       "Lithuania                   8   84   85\n",
       "Luxembourg                  9   86   88\n",
       "Macedonia                  16   81   89\n",
       "Mexico                     63   80   92\n",
       "Moldova                    71   81   90\n",
       "Montenegro                  2   82   82\n",
       "Morocco                    12   82   93\n",
       "New Zealand              3070   80   94\n",
       "Portugal                 4176   80   99\n",
       "Romania                   139   80   92\n",
       "Serbia                     14   86   89\n",
       "Slovakia                    3   82   87\n",
       "Slovenia                   81   82   92\n",
       "South Africa             2237   80   95\n",
       "South Korea                 4   81   82\n",
       "Spain                    8160   80   98\n",
       "Switzerland                 4   83   90\n",
       "Turkey                     50   84   92\n",
       "US                      62139   80  100\n",
       "US-France                   1   88   88\n",
       "Ukraine                     5   83   86\n",
       "Uruguay                    85   80   90"
      ]
     },
     "execution_count": 101,
     "metadata": {},
     "output_type": "execute_result"
    }
   ],
   "source": [
    "# Group points per country - count, min, max points:\n",
    "df.groupby(['country']).points.agg([len, min, max])"
   ]
  },
  {
   "cell_type": "code",
   "execution_count": 102,
   "id": "612d4a0d",
   "metadata": {},
   "outputs": [
    {
     "data": {
      "text/plain": [
       "0                  US - Napa Valley\n",
       "1                      Spain - Toro\n",
       "2               US - Knights Valley\n",
       "3            US - Willamette Valley\n",
       "4                   France - Bandol\n",
       "                    ...            \n",
       "150925    Italy - Fiano di Avellino\n",
       "150926           France - Champagne\n",
       "150927    Italy - Fiano di Avellino\n",
       "150928           France - Champagne\n",
       "150929           Italy - Alto Adige\n",
       "Length: 137230, dtype: object"
      ]
     },
     "execution_count": 102,
     "metadata": {},
     "output_type": "execute_result"
    }
   ],
   "source": [
    "# Sum Reviews per Country + Region\n",
    "df.country + \" - \" + df.region_1"
   ]
  },
  {
   "cell_type": "code",
   "execution_count": 103,
   "id": "d2ff732e",
   "metadata": {},
   "outputs": [
    {
     "name": "stdout",
     "output_type": "stream",
     "text": [
      "The most expensive wine in all the reviews cost $2300.00\n"
     ]
    }
   ],
   "source": [
    "# The most expensive wine\n",
    "max_price =df['price'].max()\n",
    "print(\"The most expensive wine in all the reviews cost ${:.2f}\".format(max_price))"
   ]
  },
  {
   "cell_type": "code",
   "execution_count": 104,
   "id": "1df0fd34",
   "metadata": {},
   "outputs": [
    {
     "data": {
      "text/html": [
       "<div>\n",
       "<style scoped>\n",
       "    .dataframe tbody tr th:only-of-type {\n",
       "        vertical-align: middle;\n",
       "    }\n",
       "\n",
       "    .dataframe tbody tr th {\n",
       "        vertical-align: top;\n",
       "    }\n",
       "\n",
       "    .dataframe thead th {\n",
       "        text-align: right;\n",
       "    }\n",
       "</style>\n",
       "<table border=\"1\" class=\"dataframe\">\n",
       "  <thead>\n",
       "    <tr style=\"text-align: right;\">\n",
       "      <th></th>\n",
       "      <th>country</th>\n",
       "      <th>description</th>\n",
       "      <th>designation</th>\n",
       "      <th>points</th>\n",
       "      <th>price</th>\n",
       "      <th>province</th>\n",
       "      <th>region_1</th>\n",
       "      <th>region_2</th>\n",
       "      <th>variety</th>\n",
       "      <th>winery</th>\n",
       "    </tr>\n",
       "  </thead>\n",
       "  <tbody>\n",
       "    <tr>\n",
       "      <th>34920</th>\n",
       "      <td>France</td>\n",
       "      <td>A big, powerful wine that sums up the richness...</td>\n",
       "      <td>NaN</td>\n",
       "      <td>99</td>\n",
       "      <td>2300.0</td>\n",
       "      <td>Bordeaux</td>\n",
       "      <td>Pauillac</td>\n",
       "      <td>NaN</td>\n",
       "      <td>Bordeaux-style Red Blend</td>\n",
       "      <td>Château Latour</td>\n",
       "    </tr>\n",
       "  </tbody>\n",
       "</table>\n",
       "</div>"
      ],
      "text/plain": [
       "      country                                        description designation  \\\n",
       "34920  France  A big, powerful wine that sums up the richness...         NaN   \n",
       "\n",
       "       points   price  province  region_1 region_2                   variety  \\\n",
       "34920      99  2300.0  Bordeaux  Pauillac      NaN  Bordeaux-style Red Blend   \n",
       "\n",
       "               winery  \n",
       "34920  Château Latour  "
      ]
     },
     "execution_count": 104,
     "metadata": {},
     "output_type": "execute_result"
    }
   ],
   "source": [
    "# reviews_df.groupby(\"Variety\").Price.max()\n",
    "df[df['price'] == 2300]\n"
   ]
  },
  {
   "cell_type": "code",
   "execution_count": 105,
   "id": "f706dfd2",
   "metadata": {},
   "outputs": [
    {
     "name": "stdout",
     "output_type": "stream",
     "text": [
      "The average bottle in the reviews cost $33.13 USD\n"
     ]
    }
   ],
   "source": [
    "# The average wine cost\n",
    "avg_price = df['price'].mean()\n",
    "print(\"The average bottle in the reviews cost ${:.2f} USD\".format(avg_price))"
   ]
  },
  {
   "cell_type": "code",
   "execution_count": 106,
   "id": "1d4e4f9d",
   "metadata": {},
   "outputs": [
    {
     "name": "stdout",
     "output_type": "stream",
     "text": [
      "The cheapest bottle in the reviews cost $4.00 USD\n"
     ]
    }
   ],
   "source": [
    "# The cheapest wine cost\n",
    "min_price = df['price'].min()\n",
    "print(\"The cheapest bottle in the reviews cost ${:.2f} USD\".format(min_price))"
   ]
  },
  {
   "cell_type": "code",
   "execution_count": 107,
   "id": "c2279e29",
   "metadata": {},
   "outputs": [
    {
     "data": {
      "text/html": [
       "<div>\n",
       "<style scoped>\n",
       "    .dataframe tbody tr th:only-of-type {\n",
       "        vertical-align: middle;\n",
       "    }\n",
       "\n",
       "    .dataframe tbody tr th {\n",
       "        vertical-align: top;\n",
       "    }\n",
       "\n",
       "    .dataframe thead th {\n",
       "        text-align: right;\n",
       "    }\n",
       "</style>\n",
       "<table border=\"1\" class=\"dataframe\">\n",
       "  <thead>\n",
       "    <tr style=\"text-align: right;\">\n",
       "      <th></th>\n",
       "      <th>country</th>\n",
       "      <th>description</th>\n",
       "      <th>designation</th>\n",
       "      <th>points</th>\n",
       "      <th>price</th>\n",
       "      <th>province</th>\n",
       "      <th>region_1</th>\n",
       "      <th>region_2</th>\n",
       "      <th>variety</th>\n",
       "      <th>winery</th>\n",
       "    </tr>\n",
       "  </thead>\n",
       "  <tbody>\n",
       "    <tr>\n",
       "      <th>1858</th>\n",
       "      <td>US</td>\n",
       "      <td>Sweet and fruity, this canned wine feels soft ...</td>\n",
       "      <td>Unoaked</td>\n",
       "      <td>83</td>\n",
       "      <td>4.0</td>\n",
       "      <td>California</td>\n",
       "      <td>California</td>\n",
       "      <td>California Other</td>\n",
       "      <td>Chardonnay</td>\n",
       "      <td>Pam's Cuties</td>\n",
       "    </tr>\n",
       "    <tr>\n",
       "      <th>25645</th>\n",
       "      <td>US</td>\n",
       "      <td>There's a lot going on in this Merlot, which i...</td>\n",
       "      <td>NaN</td>\n",
       "      <td>86</td>\n",
       "      <td>4.0</td>\n",
       "      <td>California</td>\n",
       "      <td>California</td>\n",
       "      <td>California Other</td>\n",
       "      <td>Merlot</td>\n",
       "      <td>Bandit</td>\n",
       "    </tr>\n",
       "    <tr>\n",
       "      <th>34415</th>\n",
       "      <td>Spain</td>\n",
       "      <td>This opens with standard cherry and berry arom...</td>\n",
       "      <td>NaN</td>\n",
       "      <td>84</td>\n",
       "      <td>4.0</td>\n",
       "      <td>Levante</td>\n",
       "      <td>Yecla</td>\n",
       "      <td>NaN</td>\n",
       "      <td>Cabernet Sauvignon</td>\n",
       "      <td>Terrenal</td>\n",
       "    </tr>\n",
       "    <tr>\n",
       "      <th>34682</th>\n",
       "      <td>Spain</td>\n",
       "      <td>Nice on the nose, this has a leafy note and a ...</td>\n",
       "      <td>Estate Bottled</td>\n",
       "      <td>84</td>\n",
       "      <td>4.0</td>\n",
       "      <td>Levante</td>\n",
       "      <td>Yecla</td>\n",
       "      <td>NaN</td>\n",
       "      <td>Tempranillo</td>\n",
       "      <td>Terrenal</td>\n",
       "    </tr>\n",
       "    <tr>\n",
       "      <th>36716</th>\n",
       "      <td>Argentina</td>\n",
       "      <td>Crimson in color but also translucent, with a ...</td>\n",
       "      <td>Red</td>\n",
       "      <td>84</td>\n",
       "      <td>4.0</td>\n",
       "      <td>Mendoza Province</td>\n",
       "      <td>Mendoza</td>\n",
       "      <td>NaN</td>\n",
       "      <td>Malbec-Syrah</td>\n",
       "      <td>Broke Ass</td>\n",
       "    </tr>\n",
       "    <tr>\n",
       "      <th>48655</th>\n",
       "      <td>US</td>\n",
       "      <td>There's a lot going on in this Merlot, which i...</td>\n",
       "      <td>NaN</td>\n",
       "      <td>86</td>\n",
       "      <td>4.0</td>\n",
       "      <td>California</td>\n",
       "      <td>California</td>\n",
       "      <td>California Other</td>\n",
       "      <td>Merlot</td>\n",
       "      <td>Bandit</td>\n",
       "    </tr>\n",
       "    <tr>\n",
       "      <th>73417</th>\n",
       "      <td>Romania</td>\n",
       "      <td>Notes of sun-dried hay and green flower highli...</td>\n",
       "      <td>UnWineD</td>\n",
       "      <td>86</td>\n",
       "      <td>4.0</td>\n",
       "      <td>Viile Timisului</td>\n",
       "      <td>NaN</td>\n",
       "      <td>NaN</td>\n",
       "      <td>Pinot Grigio</td>\n",
       "      <td>Cramele Recas</td>\n",
       "    </tr>\n",
       "    <tr>\n",
       "      <th>80185</th>\n",
       "      <td>US</td>\n",
       "      <td>There's a lot going on in this Merlot, which i...</td>\n",
       "      <td>NaN</td>\n",
       "      <td>86</td>\n",
       "      <td>4.0</td>\n",
       "      <td>California</td>\n",
       "      <td>California</td>\n",
       "      <td>California Other</td>\n",
       "      <td>Merlot</td>\n",
       "      <td>Bandit</td>\n",
       "    </tr>\n",
       "    <tr>\n",
       "      <th>90546</th>\n",
       "      <td>Argentina</td>\n",
       "      <td>Clean as anyone should reasonably expect given...</td>\n",
       "      <td>NaN</td>\n",
       "      <td>85</td>\n",
       "      <td>4.0</td>\n",
       "      <td>Mendoza Province</td>\n",
       "      <td>Mendoza</td>\n",
       "      <td>NaN</td>\n",
       "      <td>Malbec</td>\n",
       "      <td>Toca Diamonte</td>\n",
       "    </tr>\n",
       "    <tr>\n",
       "      <th>91766</th>\n",
       "      <td>Argentina</td>\n",
       "      <td>Crimson in color but also translucent, with a ...</td>\n",
       "      <td>Red</td>\n",
       "      <td>84</td>\n",
       "      <td>4.0</td>\n",
       "      <td>Mendoza Province</td>\n",
       "      <td>Mendoza</td>\n",
       "      <td>NaN</td>\n",
       "      <td>Malbec-Syrah</td>\n",
       "      <td>Broke Ass</td>\n",
       "    </tr>\n",
       "    <tr>\n",
       "      <th>99045</th>\n",
       "      <td>Portugal</td>\n",
       "      <td>This is a ripe-fruited wine, rich with dried f...</td>\n",
       "      <td>Toutalga</td>\n",
       "      <td>86</td>\n",
       "      <td>4.0</td>\n",
       "      <td>Alentejano</td>\n",
       "      <td>NaN</td>\n",
       "      <td>NaN</td>\n",
       "      <td>Portuguese Red</td>\n",
       "      <td>Herdade dos Machados</td>\n",
       "    </tr>\n",
       "    <tr>\n",
       "      <th>102035</th>\n",
       "      <td>Spain</td>\n",
       "      <td>This opens with standard cherry and berry arom...</td>\n",
       "      <td>NaN</td>\n",
       "      <td>84</td>\n",
       "      <td>4.0</td>\n",
       "      <td>Levante</td>\n",
       "      <td>Yecla</td>\n",
       "      <td>NaN</td>\n",
       "      <td>Cabernet Sauvignon</td>\n",
       "      <td>Terrenal</td>\n",
       "    </tr>\n",
       "    <tr>\n",
       "      <th>102332</th>\n",
       "      <td>Spain</td>\n",
       "      <td>Nice on the nose, this has a leafy note and a ...</td>\n",
       "      <td>Estate Bottled</td>\n",
       "      <td>84</td>\n",
       "      <td>4.0</td>\n",
       "      <td>Levante</td>\n",
       "      <td>Yecla</td>\n",
       "      <td>NaN</td>\n",
       "      <td>Tempranillo</td>\n",
       "      <td>Terrenal</td>\n",
       "    </tr>\n",
       "    <tr>\n",
       "      <th>114167</th>\n",
       "      <td>US</td>\n",
       "      <td>Easy, simple peach and strawberry flavors are ...</td>\n",
       "      <td>White Zinfandel</td>\n",
       "      <td>83</td>\n",
       "      <td>4.0</td>\n",
       "      <td>California</td>\n",
       "      <td>California</td>\n",
       "      <td>California Other</td>\n",
       "      <td>Zinfandel</td>\n",
       "      <td>Round Hill</td>\n",
       "    </tr>\n",
       "    <tr>\n",
       "      <th>118347</th>\n",
       "      <td>US</td>\n",
       "      <td>Light and earthy, this wine-in-a-box is clean ...</td>\n",
       "      <td>NaN</td>\n",
       "      <td>84</td>\n",
       "      <td>4.0</td>\n",
       "      <td>California</td>\n",
       "      <td>California</td>\n",
       "      <td>California Other</td>\n",
       "      <td>Cabernet Sauvignon</td>\n",
       "      <td>Bandit</td>\n",
       "    </tr>\n",
       "    <tr>\n",
       "      <th>119285</th>\n",
       "      <td>US</td>\n",
       "      <td>Packaged in a cute yellow recyclable Tetrapak,...</td>\n",
       "      <td>NaN</td>\n",
       "      <td>84</td>\n",
       "      <td>4.0</td>\n",
       "      <td>California</td>\n",
       "      <td>California</td>\n",
       "      <td>California Other</td>\n",
       "      <td>Chardonnay</td>\n",
       "      <td>Bandit</td>\n",
       "    </tr>\n",
       "    <tr>\n",
       "      <th>119295</th>\n",
       "      <td>US</td>\n",
       "      <td>A good everyday Merlot, dry and rich in tannin...</td>\n",
       "      <td>NaN</td>\n",
       "      <td>84</td>\n",
       "      <td>4.0</td>\n",
       "      <td>California</td>\n",
       "      <td>California</td>\n",
       "      <td>California Other</td>\n",
       "      <td>Merlot</td>\n",
       "      <td>Bandit</td>\n",
       "    </tr>\n",
       "    <tr>\n",
       "      <th>126595</th>\n",
       "      <td>US</td>\n",
       "      <td>There's a lot going on in this Merlot, which i...</td>\n",
       "      <td>NaN</td>\n",
       "      <td>86</td>\n",
       "      <td>4.0</td>\n",
       "      <td>California</td>\n",
       "      <td>California</td>\n",
       "      <td>California Other</td>\n",
       "      <td>Merlot</td>\n",
       "      <td>Bandit</td>\n",
       "    </tr>\n",
       "  </tbody>\n",
       "</table>\n",
       "</div>"
      ],
      "text/plain": [
       "          country                                        description  \\\n",
       "1858           US  Sweet and fruity, this canned wine feels soft ...   \n",
       "25645          US  There's a lot going on in this Merlot, which i...   \n",
       "34415       Spain  This opens with standard cherry and berry arom...   \n",
       "34682       Spain  Nice on the nose, this has a leafy note and a ...   \n",
       "36716   Argentina  Crimson in color but also translucent, with a ...   \n",
       "48655          US  There's a lot going on in this Merlot, which i...   \n",
       "73417     Romania  Notes of sun-dried hay and green flower highli...   \n",
       "80185          US  There's a lot going on in this Merlot, which i...   \n",
       "90546   Argentina  Clean as anyone should reasonably expect given...   \n",
       "91766   Argentina  Crimson in color but also translucent, with a ...   \n",
       "99045    Portugal  This is a ripe-fruited wine, rich with dried f...   \n",
       "102035      Spain  This opens with standard cherry and berry arom...   \n",
       "102332      Spain  Nice on the nose, this has a leafy note and a ...   \n",
       "114167         US  Easy, simple peach and strawberry flavors are ...   \n",
       "118347         US  Light and earthy, this wine-in-a-box is clean ...   \n",
       "119285         US  Packaged in a cute yellow recyclable Tetrapak,...   \n",
       "119295         US  A good everyday Merlot, dry and rich in tannin...   \n",
       "126595         US  There's a lot going on in this Merlot, which i...   \n",
       "\n",
       "            designation  points  price          province    region_1  \\\n",
       "1858            Unoaked      83    4.0        California  California   \n",
       "25645               NaN      86    4.0        California  California   \n",
       "34415               NaN      84    4.0           Levante       Yecla   \n",
       "34682    Estate Bottled      84    4.0           Levante       Yecla   \n",
       "36716               Red      84    4.0  Mendoza Province     Mendoza   \n",
       "48655               NaN      86    4.0        California  California   \n",
       "73417           UnWineD      86    4.0   Viile Timisului         NaN   \n",
       "80185               NaN      86    4.0        California  California   \n",
       "90546               NaN      85    4.0  Mendoza Province     Mendoza   \n",
       "91766               Red      84    4.0  Mendoza Province     Mendoza   \n",
       "99045          Toutalga      86    4.0        Alentejano         NaN   \n",
       "102035              NaN      84    4.0           Levante       Yecla   \n",
       "102332   Estate Bottled      84    4.0           Levante       Yecla   \n",
       "114167  White Zinfandel      83    4.0        California  California   \n",
       "118347              NaN      84    4.0        California  California   \n",
       "119285              NaN      84    4.0        California  California   \n",
       "119295              NaN      84    4.0        California  California   \n",
       "126595              NaN      86    4.0        California  California   \n",
       "\n",
       "                region_2             variety                winery  \n",
       "1858    California Other          Chardonnay          Pam's Cuties  \n",
       "25645   California Other              Merlot                Bandit  \n",
       "34415                NaN  Cabernet Sauvignon              Terrenal  \n",
       "34682                NaN         Tempranillo              Terrenal  \n",
       "36716                NaN        Malbec-Syrah             Broke Ass  \n",
       "48655   California Other              Merlot                Bandit  \n",
       "73417                NaN        Pinot Grigio         Cramele Recas  \n",
       "80185   California Other              Merlot                Bandit  \n",
       "90546                NaN              Malbec         Toca Diamonte  \n",
       "91766                NaN        Malbec-Syrah             Broke Ass  \n",
       "99045                NaN      Portuguese Red  Herdade dos Machados  \n",
       "102035               NaN  Cabernet Sauvignon              Terrenal  \n",
       "102332               NaN         Tempranillo              Terrenal  \n",
       "114167  California Other           Zinfandel            Round Hill  \n",
       "118347  California Other  Cabernet Sauvignon                Bandit  \n",
       "119285  California Other          Chardonnay                Bandit  \n",
       "119295  California Other              Merlot                Bandit  \n",
       "126595  California Other              Merlot                Bandit  "
      ]
     },
     "execution_count": 107,
     "metadata": {},
     "output_type": "execute_result"
    }
   ],
   "source": [
    "# The cheapest wines\n",
    "df[df['price'] == 4.0]"
   ]
  },
  {
   "cell_type": "code",
   "execution_count": 108,
   "id": "baa4ea59",
   "metadata": {},
   "outputs": [
    {
     "data": {
      "text/plain": [
       "count    137230.000000\n",
       "mean         87.788035\n",
       "std           3.221572\n",
       "min          80.000000\n",
       "25%          86.000000\n",
       "50%          88.000000\n",
       "75%          90.000000\n",
       "max         100.000000\n",
       "Name: points, dtype: float64"
      ]
     },
     "execution_count": 108,
     "metadata": {},
     "output_type": "execute_result"
    }
   ],
   "source": [
    "df.points.describe()\n"
   ]
  },
  {
   "cell_type": "code",
   "execution_count": 109,
   "id": "d6e0b9cf",
   "metadata": {},
   "outputs": [
    {
     "data": {
      "text/plain": [
       "Chardonnay                       13775\n",
       "Pinot Noir                       13625\n",
       "Cabernet Sauvignon               12671\n",
       "Red Blend                         9377\n",
       "Sauvignon Blanc                   6054\n",
       "Syrah                             5667\n",
       "Riesling                          5212\n",
       "Merlot                            4987\n",
       "Bordeaux-style Red Blend          4545\n",
       "Zinfandel                         3794\n",
       "Malbec                            3085\n",
       "Sangiovese                        2879\n",
       "White Blend                       2554\n",
       "Tempranillo                       2525\n",
       "Rosé                              2461\n",
       "Shiraz                            1945\n",
       "Sparkling Blend                   1820\n",
       "Portuguese Red                    1812\n",
       "Nebbiolo                          1529\n",
       "Rhône-style Red Blend             1455\n",
       "Cabernet Franc                    1310\n",
       "Corvina, Rondinella, Molinara     1292\n",
       "Pinot Gris                        1275\n",
       "Pinot Grigio                      1270\n",
       "Viognier                          1255\n",
       "Name: variety, dtype: int64"
      ]
     },
     "execution_count": 109,
     "metadata": {},
     "output_type": "execute_result"
    }
   ],
   "source": [
    "# Sum of reviews per variety (Top 25)\n",
    "df[\"variety\"].value_counts().head(25)"
   ]
  },
  {
   "cell_type": "code",
   "execution_count": 110,
   "id": "1b849deb",
   "metadata": {},
   "outputs": [
    {
     "name": "stdout",
     "output_type": "stream",
     "text": [
      "Unique wine varieties in the reviews: \n",
      "619\n"
     ]
    }
   ],
   "source": [
    "# Number of unique wine varieties in the reviews:\n",
    "unique_wines = df[\"variety\"].unique()\n",
    "print(\"Unique wine varieties in the reviews: \\n{}\".format(len(unique_wines)))"
   ]
  },
  {
   "cell_type": "code",
   "execution_count": 111,
   "id": "db1225d9",
   "metadata": {},
   "outputs": [
    {
     "data": {
      "text/plain": [
       "country\n",
       "Albania                       Kallmet\n",
       "Argentina                 White Blend\n",
       "Australia                   Zinfandel\n",
       "Austria                      Zweigelt\n",
       "Bosnia and Herzegovina         Vranec\n",
       "Brazil                         Tannat\n",
       "Bulgaria                  White Blend\n",
       "Canada                    White Blend\n",
       "Chile                     White Blend\n",
       "China                     White Blend\n",
       "Name: variety, dtype: object"
      ]
     },
     "execution_count": 111,
     "metadata": {},
     "output_type": "execute_result"
    }
   ],
   "source": [
    "# Group country by Variety (first Ten only)\n",
    "df.groupby(\"country\").variety.max().head(10)"
   ]
  },
  {
   "cell_type": "code",
   "execution_count": 112,
   "id": "fe7e856e",
   "metadata": {},
   "outputs": [
    {
     "data": {
      "text/html": [
       "<div>\n",
       "<style scoped>\n",
       "    .dataframe tbody tr th:only-of-type {\n",
       "        vertical-align: middle;\n",
       "    }\n",
       "\n",
       "    .dataframe tbody tr th {\n",
       "        vertical-align: top;\n",
       "    }\n",
       "\n",
       "    .dataframe thead th {\n",
       "        text-align: right;\n",
       "    }\n",
       "</style>\n",
       "<table border=\"1\" class=\"dataframe\">\n",
       "  <thead>\n",
       "    <tr style=\"text-align: right;\">\n",
       "      <th></th>\n",
       "      <th>country</th>\n",
       "      <th>description</th>\n",
       "      <th>designation</th>\n",
       "      <th>points</th>\n",
       "      <th>price</th>\n",
       "      <th>province</th>\n",
       "      <th>region_1</th>\n",
       "      <th>region_2</th>\n",
       "      <th>variety</th>\n",
       "      <th>winery</th>\n",
       "    </tr>\n",
       "  </thead>\n",
       "  <tbody>\n",
       "    <tr>\n",
       "      <th>116691</th>\n",
       "      <td>Argentina</td>\n",
       "      <td>If the color doesn't tell the full story, the ...</td>\n",
       "      <td>Nicasia Vineyard</td>\n",
       "      <td>97</td>\n",
       "      <td>120.0</td>\n",
       "      <td>Mendoza Province</td>\n",
       "      <td>Mendoza</td>\n",
       "      <td>NaN</td>\n",
       "      <td>Malbec</td>\n",
       "      <td>Bodega Catena Zapata</td>\n",
       "    </tr>\n",
       "    <tr>\n",
       "      <th>121311</th>\n",
       "      <td>Argentina</td>\n",
       "      <td>If the color doesn't tell the full story, the ...</td>\n",
       "      <td>Nicasia Vineyard</td>\n",
       "      <td>97</td>\n",
       "      <td>120.0</td>\n",
       "      <td>Mendoza Province</td>\n",
       "      <td>Mendoza</td>\n",
       "      <td>NaN</td>\n",
       "      <td>Malbec</td>\n",
       "      <td>Bodega Catena Zapata</td>\n",
       "    </tr>\n",
       "    <tr>\n",
       "      <th>65331</th>\n",
       "      <td>Argentina</td>\n",
       "      <td>If the color doesn't tell the full story, the ...</td>\n",
       "      <td>Nicasia Vineyard</td>\n",
       "      <td>97</td>\n",
       "      <td>120.0</td>\n",
       "      <td>Mendoza Province</td>\n",
       "      <td>Mendoza</td>\n",
       "      <td>NaN</td>\n",
       "      <td>Malbec</td>\n",
       "      <td>Bodega Catena Zapata</td>\n",
       "    </tr>\n",
       "    <tr>\n",
       "      <th>107804</th>\n",
       "      <td>Argentina</td>\n",
       "      <td>This blend from the Nicasia and Adrianna viney...</td>\n",
       "      <td>Argentino</td>\n",
       "      <td>96</td>\n",
       "      <td>123.0</td>\n",
       "      <td>Mendoza Province</td>\n",
       "      <td>Mendoza</td>\n",
       "      <td>NaN</td>\n",
       "      <td>Malbec</td>\n",
       "      <td>Bodega Catena Zapata</td>\n",
       "    </tr>\n",
       "    <tr>\n",
       "      <th>63766</th>\n",
       "      <td>Argentina</td>\n",
       "      <td>Features intoxicating pastry, blueberry, cola ...</td>\n",
       "      <td>Nicasia Vineyard</td>\n",
       "      <td>96</td>\n",
       "      <td>123.0</td>\n",
       "      <td>Mendoza Province</td>\n",
       "      <td>Mendoza</td>\n",
       "      <td>NaN</td>\n",
       "      <td>Malbec</td>\n",
       "      <td>Bodega Catena Zapata</td>\n",
       "    </tr>\n",
       "    <tr>\n",
       "      <th>107806</th>\n",
       "      <td>Argentina</td>\n",
       "      <td>Features intoxicating pastry, blueberry, cola ...</td>\n",
       "      <td>Nicasia Vineyard</td>\n",
       "      <td>96</td>\n",
       "      <td>123.0</td>\n",
       "      <td>Mendoza Province</td>\n",
       "      <td>Mendoza</td>\n",
       "      <td>NaN</td>\n",
       "      <td>Malbec</td>\n",
       "      <td>Bodega Catena Zapata</td>\n",
       "    </tr>\n",
       "    <tr>\n",
       "      <th>63764</th>\n",
       "      <td>Argentina</td>\n",
       "      <td>This blend from the Nicasia and Adrianna viney...</td>\n",
       "      <td>Argentino</td>\n",
       "      <td>96</td>\n",
       "      <td>123.0</td>\n",
       "      <td>Mendoza Province</td>\n",
       "      <td>Mendoza</td>\n",
       "      <td>NaN</td>\n",
       "      <td>Malbec</td>\n",
       "      <td>Bodega Catena Zapata</td>\n",
       "    </tr>\n",
       "    <tr>\n",
       "      <th>83001</th>\n",
       "      <td>Argentina</td>\n",
       "      <td>This wine takes you on a trip to an outer wine...</td>\n",
       "      <td>Gran Corte Las Divas Vineyard</td>\n",
       "      <td>96</td>\n",
       "      <td>50.0</td>\n",
       "      <td>Mendoza Province</td>\n",
       "      <td>Tupungato</td>\n",
       "      <td>NaN</td>\n",
       "      <td>Bordeaux-style Red Blend</td>\n",
       "      <td>Riglos</td>\n",
       "    </tr>\n",
       "    <tr>\n",
       "      <th>130756</th>\n",
       "      <td>Argentina</td>\n",
       "      <td>Features intoxicating pastry, blueberry, cola ...</td>\n",
       "      <td>Nicasia Vineyard</td>\n",
       "      <td>96</td>\n",
       "      <td>123.0</td>\n",
       "      <td>Mendoza Province</td>\n",
       "      <td>Mendoza</td>\n",
       "      <td>NaN</td>\n",
       "      <td>Malbec</td>\n",
       "      <td>Bodega Catena Zapata</td>\n",
       "    </tr>\n",
       "    <tr>\n",
       "      <th>130754</th>\n",
       "      <td>Argentina</td>\n",
       "      <td>This blend from the Nicasia and Adrianna viney...</td>\n",
       "      <td>Argentino</td>\n",
       "      <td>96</td>\n",
       "      <td>123.0</td>\n",
       "      <td>Mendoza Province</td>\n",
       "      <td>Mendoza</td>\n",
       "      <td>NaN</td>\n",
       "      <td>Malbec</td>\n",
       "      <td>Bodega Catena Zapata</td>\n",
       "    </tr>\n",
       "  </tbody>\n",
       "</table>\n",
       "</div>"
      ],
      "text/plain": [
       "          country                                        description  \\\n",
       "116691  Argentina  If the color doesn't tell the full story, the ...   \n",
       "121311  Argentina  If the color doesn't tell the full story, the ...   \n",
       "65331   Argentina  If the color doesn't tell the full story, the ...   \n",
       "107804  Argentina  This blend from the Nicasia and Adrianna viney...   \n",
       "63766   Argentina  Features intoxicating pastry, blueberry, cola ...   \n",
       "107806  Argentina  Features intoxicating pastry, blueberry, cola ...   \n",
       "63764   Argentina  This blend from the Nicasia and Adrianna viney...   \n",
       "83001   Argentina  This wine takes you on a trip to an outer wine...   \n",
       "130756  Argentina  Features intoxicating pastry, blueberry, cola ...   \n",
       "130754  Argentina  This blend from the Nicasia and Adrianna viney...   \n",
       "\n",
       "                          designation  points  price          province  \\\n",
       "116691               Nicasia Vineyard      97  120.0  Mendoza Province   \n",
       "121311               Nicasia Vineyard      97  120.0  Mendoza Province   \n",
       "65331                Nicasia Vineyard      97  120.0  Mendoza Province   \n",
       "107804                      Argentino      96  123.0  Mendoza Province   \n",
       "63766                Nicasia Vineyard      96  123.0  Mendoza Province   \n",
       "107806               Nicasia Vineyard      96  123.0  Mendoza Province   \n",
       "63764                       Argentino      96  123.0  Mendoza Province   \n",
       "83001   Gran Corte Las Divas Vineyard      96   50.0  Mendoza Province   \n",
       "130756               Nicasia Vineyard      96  123.0  Mendoza Province   \n",
       "130754                      Argentino      96  123.0  Mendoza Province   \n",
       "\n",
       "         region_1 region_2                   variety                winery  \n",
       "116691    Mendoza      NaN                    Malbec  Bodega Catena Zapata  \n",
       "121311    Mendoza      NaN                    Malbec  Bodega Catena Zapata  \n",
       "65331     Mendoza      NaN                    Malbec  Bodega Catena Zapata  \n",
       "107804    Mendoza      NaN                    Malbec  Bodega Catena Zapata  \n",
       "63766     Mendoza      NaN                    Malbec  Bodega Catena Zapata  \n",
       "107806    Mendoza      NaN                    Malbec  Bodega Catena Zapata  \n",
       "63764     Mendoza      NaN                    Malbec  Bodega Catena Zapata  \n",
       "83001   Tupungato      NaN  Bordeaux-style Red Blend                Riglos  \n",
       "130756    Mendoza      NaN                    Malbec  Bodega Catena Zapata  \n",
       "130754    Mendoza      NaN                    Malbec  Bodega Catena Zapata  "
      ]
     },
     "execution_count": 112,
     "metadata": {},
     "output_type": "execute_result"
    }
   ],
   "source": [
    "# Get wine from Argentina~!\n",
    "# Here are the Top Ten Wines sorted by points~!\n",
    "argentina_top_ten = df[df['country'].str.match('Argentina')]\n",
    "argentina_top_ten.sort_values(\"points\", ascending=False).head(10)"
   ]
  },
  {
   "cell_type": "code",
   "execution_count": 113,
   "id": "558d16e2",
   "metadata": {},
   "outputs": [
    {
     "data": {
      "text/html": [
       "<div>\n",
       "<style scoped>\n",
       "    .dataframe tbody tr th:only-of-type {\n",
       "        vertical-align: middle;\n",
       "    }\n",
       "\n",
       "    .dataframe tbody tr th {\n",
       "        vertical-align: top;\n",
       "    }\n",
       "\n",
       "    .dataframe thead th {\n",
       "        text-align: right;\n",
       "    }\n",
       "</style>\n",
       "<table border=\"1\" class=\"dataframe\">\n",
       "  <thead>\n",
       "    <tr style=\"text-align: right;\">\n",
       "      <th></th>\n",
       "      <th>country</th>\n",
       "      <th>description</th>\n",
       "      <th>designation</th>\n",
       "      <th>points</th>\n",
       "      <th>price</th>\n",
       "      <th>province</th>\n",
       "      <th>region_1</th>\n",
       "      <th>region_2</th>\n",
       "      <th>variety</th>\n",
       "      <th>winery</th>\n",
       "    </tr>\n",
       "  </thead>\n",
       "  <tbody>\n",
       "    <tr>\n",
       "      <th>2145</th>\n",
       "      <td>France</td>\n",
       "      <td>Full of ripe fruit, opulent and concentrated, ...</td>\n",
       "      <td>NaN</td>\n",
       "      <td>100</td>\n",
       "      <td>848.0</td>\n",
       "      <td>Bordeaux</td>\n",
       "      <td>Pessac-Léognan</td>\n",
       "      <td>NaN</td>\n",
       "      <td>Bordeaux-style White Blend</td>\n",
       "      <td>Château Haut-Brion</td>\n",
       "    </tr>\n",
       "    <tr>\n",
       "      <th>19354</th>\n",
       "      <td>US</td>\n",
       "      <td>In a stunning lineup of Cayuse Syrahs, the En ...</td>\n",
       "      <td>En Chamberlin Vineyard</td>\n",
       "      <td>100</td>\n",
       "      <td>65.0</td>\n",
       "      <td>Oregon</td>\n",
       "      <td>Walla Walla Valley (OR)</td>\n",
       "      <td>Oregon Other</td>\n",
       "      <td>Syrah</td>\n",
       "      <td>Cayuse</td>\n",
       "    </tr>\n",
       "    <tr>\n",
       "      <th>19355</th>\n",
       "      <td>Australia</td>\n",
       "      <td>Not a Cellar Selection in the traditional sens...</td>\n",
       "      <td>Rare</td>\n",
       "      <td>100</td>\n",
       "      <td>300.0</td>\n",
       "      <td>Victoria</td>\n",
       "      <td>Rutherglen</td>\n",
       "      <td>NaN</td>\n",
       "      <td>Muscat</td>\n",
       "      <td>Chambers Rosewood Vineyards</td>\n",
       "    </tr>\n",
       "    <tr>\n",
       "      <th>24151</th>\n",
       "      <td>Italy</td>\n",
       "      <td>A perfect wine from a classic vintage, the 200...</td>\n",
       "      <td>Masseto</td>\n",
       "      <td>100</td>\n",
       "      <td>460.0</td>\n",
       "      <td>Tuscany</td>\n",
       "      <td>Toscana</td>\n",
       "      <td>NaN</td>\n",
       "      <td>Merlot</td>\n",
       "      <td>Tenuta dell'Ornellaia</td>\n",
       "    </tr>\n",
       "    <tr>\n",
       "      <th>26296</th>\n",
       "      <td>France</td>\n",
       "      <td>A wine that has created its own universe. It h...</td>\n",
       "      <td>Clos du Mesnil</td>\n",
       "      <td>100</td>\n",
       "      <td>1400.0</td>\n",
       "      <td>Champagne</td>\n",
       "      <td>Champagne</td>\n",
       "      <td>NaN</td>\n",
       "      <td>Chardonnay</td>\n",
       "      <td>Krug</td>\n",
       "    </tr>\n",
       "    <tr>\n",
       "      <th>28954</th>\n",
       "      <td>Italy</td>\n",
       "      <td>This small, family-run estate in the heart of ...</td>\n",
       "      <td>Guado de' Gemoli</td>\n",
       "      <td>100</td>\n",
       "      <td>195.0</td>\n",
       "      <td>Tuscany</td>\n",
       "      <td>Bolgheri Superiore</td>\n",
       "      <td>NaN</td>\n",
       "      <td>Red Blend</td>\n",
       "      <td>Giovanni Chiappini</td>\n",
       "    </tr>\n",
       "    <tr>\n",
       "      <th>41521</th>\n",
       "      <td>Italy</td>\n",
       "      <td>A perfect wine from a classic vintage, the 200...</td>\n",
       "      <td>Masseto</td>\n",
       "      <td>100</td>\n",
       "      <td>460.0</td>\n",
       "      <td>Tuscany</td>\n",
       "      <td>Toscana</td>\n",
       "      <td>NaN</td>\n",
       "      <td>Merlot</td>\n",
       "      <td>Tenuta dell'Ornellaia</td>\n",
       "    </tr>\n",
       "    <tr>\n",
       "      <th>51886</th>\n",
       "      <td>France</td>\n",
       "      <td>A wine that has created its own universe. It h...</td>\n",
       "      <td>Clos du Mesnil</td>\n",
       "      <td>100</td>\n",
       "      <td>1400.0</td>\n",
       "      <td>Champagne</td>\n",
       "      <td>Champagne</td>\n",
       "      <td>NaN</td>\n",
       "      <td>Chardonnay</td>\n",
       "      <td>Krug</td>\n",
       "    </tr>\n",
       "    <tr>\n",
       "      <th>78004</th>\n",
       "      <td>Italy</td>\n",
       "      <td>This small, family-run estate in the heart of ...</td>\n",
       "      <td>Guado de' Gemoli</td>\n",
       "      <td>100</td>\n",
       "      <td>195.0</td>\n",
       "      <td>Tuscany</td>\n",
       "      <td>Bolgheri Superiore</td>\n",
       "      <td>NaN</td>\n",
       "      <td>Red Blend</td>\n",
       "      <td>Giovanni Chiappini</td>\n",
       "    </tr>\n",
       "    <tr>\n",
       "      <th>83536</th>\n",
       "      <td>France</td>\n",
       "      <td>A wine that has created its own universe. It h...</td>\n",
       "      <td>Clos du Mesnil</td>\n",
       "      <td>100</td>\n",
       "      <td>1400.0</td>\n",
       "      <td>Champagne</td>\n",
       "      <td>Champagne</td>\n",
       "      <td>NaN</td>\n",
       "      <td>Chardonnay</td>\n",
       "      <td>Krug</td>\n",
       "    </tr>\n",
       "    <tr>\n",
       "      <th>84034</th>\n",
       "      <td>US</td>\n",
       "      <td>In a stunning lineup of Cayuse Syrahs, the En ...</td>\n",
       "      <td>En Chamberlin Vineyard</td>\n",
       "      <td>100</td>\n",
       "      <td>65.0</td>\n",
       "      <td>Oregon</td>\n",
       "      <td>Walla Walla Valley (OR)</td>\n",
       "      <td>Oregon Other</td>\n",
       "      <td>Syrah</td>\n",
       "      <td>Cayuse</td>\n",
       "    </tr>\n",
       "    <tr>\n",
       "      <th>84035</th>\n",
       "      <td>Australia</td>\n",
       "      <td>Not a Cellar Selection in the traditional sens...</td>\n",
       "      <td>Rare</td>\n",
       "      <td>100</td>\n",
       "      <td>300.0</td>\n",
       "      <td>Victoria</td>\n",
       "      <td>Rutherglen</td>\n",
       "      <td>NaN</td>\n",
       "      <td>Muscat</td>\n",
       "      <td>Chambers Rosewood Vineyards</td>\n",
       "    </tr>\n",
       "    <tr>\n",
       "      <th>89399</th>\n",
       "      <td>US</td>\n",
       "      <td>Tasted in a flight of great and famous Napa wi...</td>\n",
       "      <td>NaN</td>\n",
       "      <td>100</td>\n",
       "      <td>200.0</td>\n",
       "      <td>California</td>\n",
       "      <td>Napa Valley</td>\n",
       "      <td>Napa</td>\n",
       "      <td>Cabernet Sauvignon</td>\n",
       "      <td>Cardinale</td>\n",
       "    </tr>\n",
       "    <tr>\n",
       "      <th>92916</th>\n",
       "      <td>US</td>\n",
       "      <td>A perfect score has to be considered in the co...</td>\n",
       "      <td>Hillside Select</td>\n",
       "      <td>100</td>\n",
       "      <td>215.0</td>\n",
       "      <td>California</td>\n",
       "      <td>Stags Leap District</td>\n",
       "      <td>Napa</td>\n",
       "      <td>Cabernet Sauvignon</td>\n",
       "      <td>Shafer</td>\n",
       "    </tr>\n",
       "    <tr>\n",
       "      <th>98647</th>\n",
       "      <td>US</td>\n",
       "      <td>A spectacular Pinot Noir, but a very young one...</td>\n",
       "      <td>Litton Estate Vineyard</td>\n",
       "      <td>100</td>\n",
       "      <td>100.0</td>\n",
       "      <td>California</td>\n",
       "      <td>Russian River Valley</td>\n",
       "      <td>Sonoma</td>\n",
       "      <td>Pinot Noir</td>\n",
       "      <td>Williams Selyem</td>\n",
       "    </tr>\n",
       "    <tr>\n",
       "      <th>111087</th>\n",
       "      <td>Italy</td>\n",
       "      <td>Thick as molasses and dark as caramelized brow...</td>\n",
       "      <td>Occhio di Pernice</td>\n",
       "      <td>100</td>\n",
       "      <td>210.0</td>\n",
       "      <td>Tuscany</td>\n",
       "      <td>Vin Santo di Montepulciano</td>\n",
       "      <td>NaN</td>\n",
       "      <td>Prugnolo Gentile</td>\n",
       "      <td>Avignonesi</td>\n",
       "    </tr>\n",
       "    <tr>\n",
       "      <th>114272</th>\n",
       "      <td>US</td>\n",
       "      <td>Impossibly aromatic. Hard to imagine greater c...</td>\n",
       "      <td>Red Wine</td>\n",
       "      <td>100</td>\n",
       "      <td>245.0</td>\n",
       "      <td>California</td>\n",
       "      <td>Rutherford</td>\n",
       "      <td>Napa</td>\n",
       "      <td>Cabernet Blend</td>\n",
       "      <td>Sloan</td>\n",
       "    </tr>\n",
       "    <tr>\n",
       "      <th>119194</th>\n",
       "      <td>US</td>\n",
       "      <td>In a stunning lineup of Cayuse Syrahs, the En ...</td>\n",
       "      <td>En Chamberlin Vineyard</td>\n",
       "      <td>100</td>\n",
       "      <td>65.0</td>\n",
       "      <td>Oregon</td>\n",
       "      <td>Walla Walla Valley (OR)</td>\n",
       "      <td>Oregon Other</td>\n",
       "      <td>Syrah</td>\n",
       "      <td>Cayuse</td>\n",
       "    </tr>\n",
       "    <tr>\n",
       "      <th>119195</th>\n",
       "      <td>Australia</td>\n",
       "      <td>Not a Cellar Selection in the traditional sens...</td>\n",
       "      <td>Rare</td>\n",
       "      <td>100</td>\n",
       "      <td>300.0</td>\n",
       "      <td>Victoria</td>\n",
       "      <td>Rutherglen</td>\n",
       "      <td>NaN</td>\n",
       "      <td>Muscat</td>\n",
       "      <td>Chambers Rosewood Vineyards</td>\n",
       "    </tr>\n",
       "    <tr>\n",
       "      <th>119521</th>\n",
       "      <td>Italy</td>\n",
       "      <td>A perfect wine from a classic vintage, the 200...</td>\n",
       "      <td>Masseto</td>\n",
       "      <td>100</td>\n",
       "      <td>460.0</td>\n",
       "      <td>Tuscany</td>\n",
       "      <td>Toscana</td>\n",
       "      <td>NaN</td>\n",
       "      <td>Merlot</td>\n",
       "      <td>Tenuta dell'Ornellaia</td>\n",
       "    </tr>\n",
       "    <tr>\n",
       "      <th>122767</th>\n",
       "      <td>US</td>\n",
       "      <td>A spectacular Pinot Noir, but a very young one...</td>\n",
       "      <td>Litton Estate Vineyard</td>\n",
       "      <td>100</td>\n",
       "      <td>100.0</td>\n",
       "      <td>California</td>\n",
       "      <td>Russian River Valley</td>\n",
       "      <td>Sonoma</td>\n",
       "      <td>Pinot Noir</td>\n",
       "      <td>Williams Selyem</td>\n",
       "    </tr>\n",
       "    <tr>\n",
       "      <th>137099</th>\n",
       "      <td>US</td>\n",
       "      <td>Tasted in a flight of great and famous Napa wi...</td>\n",
       "      <td>NaN</td>\n",
       "      <td>100</td>\n",
       "      <td>200.0</td>\n",
       "      <td>California</td>\n",
       "      <td>Napa Valley</td>\n",
       "      <td>Napa</td>\n",
       "      <td>Cabernet Sauvignon</td>\n",
       "      <td>Cardinale</td>\n",
       "    </tr>\n",
       "    <tr>\n",
       "      <th>138867</th>\n",
       "      <td>Italy</td>\n",
       "      <td>Thick as molasses and dark as caramelized brow...</td>\n",
       "      <td>Occhio di Pernice</td>\n",
       "      <td>100</td>\n",
       "      <td>210.0</td>\n",
       "      <td>Tuscany</td>\n",
       "      <td>Vin Santo di Montepulciano</td>\n",
       "      <td>NaN</td>\n",
       "      <td>Prugnolo Gentile</td>\n",
       "      <td>Avignonesi</td>\n",
       "    </tr>\n",
       "    <tr>\n",
       "      <th>143522</th>\n",
       "      <td>US</td>\n",
       "      <td>Impossibly aromatic. Hard to imagine greater c...</td>\n",
       "      <td>Red Wine</td>\n",
       "      <td>100</td>\n",
       "      <td>245.0</td>\n",
       "      <td>California</td>\n",
       "      <td>Rutherford</td>\n",
       "      <td>Napa</td>\n",
       "      <td>Cabernet Blend</td>\n",
       "      <td>Sloan</td>\n",
       "    </tr>\n",
       "  </tbody>\n",
       "</table>\n",
       "</div>"
      ],
      "text/plain": [
       "          country                                        description  \\\n",
       "2145       France  Full of ripe fruit, opulent and concentrated, ...   \n",
       "19354          US  In a stunning lineup of Cayuse Syrahs, the En ...   \n",
       "19355   Australia  Not a Cellar Selection in the traditional sens...   \n",
       "24151       Italy  A perfect wine from a classic vintage, the 200...   \n",
       "26296      France  A wine that has created its own universe. It h...   \n",
       "28954       Italy  This small, family-run estate in the heart of ...   \n",
       "41521       Italy  A perfect wine from a classic vintage, the 200...   \n",
       "51886      France  A wine that has created its own universe. It h...   \n",
       "78004       Italy  This small, family-run estate in the heart of ...   \n",
       "83536      France  A wine that has created its own universe. It h...   \n",
       "84034          US  In a stunning lineup of Cayuse Syrahs, the En ...   \n",
       "84035   Australia  Not a Cellar Selection in the traditional sens...   \n",
       "89399          US  Tasted in a flight of great and famous Napa wi...   \n",
       "92916          US  A perfect score has to be considered in the co...   \n",
       "98647          US  A spectacular Pinot Noir, but a very young one...   \n",
       "111087      Italy  Thick as molasses and dark as caramelized brow...   \n",
       "114272         US  Impossibly aromatic. Hard to imagine greater c...   \n",
       "119194         US  In a stunning lineup of Cayuse Syrahs, the En ...   \n",
       "119195  Australia  Not a Cellar Selection in the traditional sens...   \n",
       "119521      Italy  A perfect wine from a classic vintage, the 200...   \n",
       "122767         US  A spectacular Pinot Noir, but a very young one...   \n",
       "137099         US  Tasted in a flight of great and famous Napa wi...   \n",
       "138867      Italy  Thick as molasses and dark as caramelized brow...   \n",
       "143522         US  Impossibly aromatic. Hard to imagine greater c...   \n",
       "\n",
       "                   designation  points   price    province  \\\n",
       "2145                       NaN     100   848.0    Bordeaux   \n",
       "19354   En Chamberlin Vineyard     100    65.0      Oregon   \n",
       "19355                     Rare     100   300.0    Victoria   \n",
       "24151                  Masseto     100   460.0     Tuscany   \n",
       "26296           Clos du Mesnil     100  1400.0   Champagne   \n",
       "28954         Guado de' Gemoli     100   195.0     Tuscany   \n",
       "41521                  Masseto     100   460.0     Tuscany   \n",
       "51886           Clos du Mesnil     100  1400.0   Champagne   \n",
       "78004         Guado de' Gemoli     100   195.0     Tuscany   \n",
       "83536           Clos du Mesnil     100  1400.0   Champagne   \n",
       "84034   En Chamberlin Vineyard     100    65.0      Oregon   \n",
       "84035                     Rare     100   300.0    Victoria   \n",
       "89399                      NaN     100   200.0  California   \n",
       "92916          Hillside Select     100   215.0  California   \n",
       "98647   Litton Estate Vineyard     100   100.0  California   \n",
       "111087       Occhio di Pernice     100   210.0     Tuscany   \n",
       "114272                Red Wine     100   245.0  California   \n",
       "119194  En Chamberlin Vineyard     100    65.0      Oregon   \n",
       "119195                    Rare     100   300.0    Victoria   \n",
       "119521                 Masseto     100   460.0     Tuscany   \n",
       "122767  Litton Estate Vineyard     100   100.0  California   \n",
       "137099                     NaN     100   200.0  California   \n",
       "138867       Occhio di Pernice     100   210.0     Tuscany   \n",
       "143522                Red Wine     100   245.0  California   \n",
       "\n",
       "                          region_1      region_2                     variety  \\\n",
       "2145                Pessac-Léognan           NaN  Bordeaux-style White Blend   \n",
       "19354      Walla Walla Valley (OR)  Oregon Other                       Syrah   \n",
       "19355                   Rutherglen           NaN                      Muscat   \n",
       "24151                      Toscana           NaN                      Merlot   \n",
       "26296                    Champagne           NaN                  Chardonnay   \n",
       "28954           Bolgheri Superiore           NaN                   Red Blend   \n",
       "41521                      Toscana           NaN                      Merlot   \n",
       "51886                    Champagne           NaN                  Chardonnay   \n",
       "78004           Bolgheri Superiore           NaN                   Red Blend   \n",
       "83536                    Champagne           NaN                  Chardonnay   \n",
       "84034      Walla Walla Valley (OR)  Oregon Other                       Syrah   \n",
       "84035                   Rutherglen           NaN                      Muscat   \n",
       "89399                  Napa Valley          Napa          Cabernet Sauvignon   \n",
       "92916          Stags Leap District          Napa          Cabernet Sauvignon   \n",
       "98647         Russian River Valley        Sonoma                  Pinot Noir   \n",
       "111087  Vin Santo di Montepulciano           NaN            Prugnolo Gentile   \n",
       "114272                  Rutherford          Napa              Cabernet Blend   \n",
       "119194     Walla Walla Valley (OR)  Oregon Other                       Syrah   \n",
       "119195                  Rutherglen           NaN                      Muscat   \n",
       "119521                     Toscana           NaN                      Merlot   \n",
       "122767        Russian River Valley        Sonoma                  Pinot Noir   \n",
       "137099                 Napa Valley          Napa          Cabernet Sauvignon   \n",
       "138867  Vin Santo di Montepulciano           NaN            Prugnolo Gentile   \n",
       "143522                  Rutherford          Napa              Cabernet Blend   \n",
       "\n",
       "                             winery  \n",
       "2145             Château Haut-Brion  \n",
       "19354                        Cayuse  \n",
       "19355   Chambers Rosewood Vineyards  \n",
       "24151         Tenuta dell'Ornellaia  \n",
       "26296                          Krug  \n",
       "28954            Giovanni Chiappini  \n",
       "41521         Tenuta dell'Ornellaia  \n",
       "51886                          Krug  \n",
       "78004            Giovanni Chiappini  \n",
       "83536                          Krug  \n",
       "84034                        Cayuse  \n",
       "84035   Chambers Rosewood Vineyards  \n",
       "89399                     Cardinale  \n",
       "92916                        Shafer  \n",
       "98647               Williams Selyem  \n",
       "111087                   Avignonesi  \n",
       "114272                        Sloan  \n",
       "119194                       Cayuse  \n",
       "119195  Chambers Rosewood Vineyards  \n",
       "119521        Tenuta dell'Ornellaia  \n",
       "122767              Williams Selyem  \n",
       "137099                    Cardinale  \n",
       "138867                   Avignonesi  \n",
       "143522                        Sloan  "
      ]
     },
     "execution_count": 113,
     "metadata": {},
     "output_type": "execute_result"
    }
   ],
   "source": [
    "# Create a new dataframe for the perfect scores records:\n",
    "perfect_scores_df = df[df['points'] == 100]\n",
    "perfect_scores_df"
   ]
  },
  {
   "cell_type": "code",
   "execution_count": 114,
   "id": "8d6376ab",
   "metadata": {},
   "outputs": [
    {
     "data": {
      "text/plain": [
       "(24, 10)"
      ]
     },
     "execution_count": 114,
     "metadata": {},
     "output_type": "execute_result"
    }
   ],
   "source": [
    "# How many records have a score of 100?\n",
    "perfect_scores_df.shape"
   ]
  },
  {
   "cell_type": "code",
   "execution_count": 115,
   "id": "1e5b6655",
   "metadata": {},
   "outputs": [
    {
     "data": {
      "text/plain": [
       "US           10\n",
       "Italy         7\n",
       "France        4\n",
       "Australia     3\n",
       "Name: country, dtype: int64"
      ]
     },
     "execution_count": 115,
     "metadata": {},
     "output_type": "execute_result"
    }
   ],
   "source": [
    "# Count how many perfect scores per country:\n",
    "perfect_scores_df[\"country\"].value_counts()"
   ]
  },
  {
   "cell_type": "code",
   "execution_count": 116,
   "id": "266092b2",
   "metadata": {},
   "outputs": [
    {
     "data": {
      "text/html": [
       "<div>\n",
       "<style scoped>\n",
       "    .dataframe tbody tr th:only-of-type {\n",
       "        vertical-align: middle;\n",
       "    }\n",
       "\n",
       "    .dataframe tbody tr th {\n",
       "        vertical-align: top;\n",
       "    }\n",
       "\n",
       "    .dataframe thead th {\n",
       "        text-align: right;\n",
       "    }\n",
       "</style>\n",
       "<table border=\"1\" class=\"dataframe\">\n",
       "  <thead>\n",
       "    <tr style=\"text-align: right;\">\n",
       "      <th></th>\n",
       "      <th>len</th>\n",
       "      <th>min</th>\n",
       "      <th>max</th>\n",
       "    </tr>\n",
       "    <tr>\n",
       "      <th>country</th>\n",
       "      <th></th>\n",
       "      <th></th>\n",
       "      <th></th>\n",
       "    </tr>\n",
       "  </thead>\n",
       "  <tbody>\n",
       "    <tr>\n",
       "      <th>Australia</th>\n",
       "      <td>3</td>\n",
       "      <td>300.0</td>\n",
       "      <td>300.0</td>\n",
       "    </tr>\n",
       "    <tr>\n",
       "      <th>France</th>\n",
       "      <td>4</td>\n",
       "      <td>848.0</td>\n",
       "      <td>1400.0</td>\n",
       "    </tr>\n",
       "    <tr>\n",
       "      <th>Italy</th>\n",
       "      <td>7</td>\n",
       "      <td>195.0</td>\n",
       "      <td>460.0</td>\n",
       "    </tr>\n",
       "    <tr>\n",
       "      <th>US</th>\n",
       "      <td>10</td>\n",
       "      <td>65.0</td>\n",
       "      <td>245.0</td>\n",
       "    </tr>\n",
       "  </tbody>\n",
       "</table>\n",
       "</div>"
      ],
      "text/plain": [
       "           len    min     max\n",
       "country                      \n",
       "Australia    3  300.0   300.0\n",
       "France       4  848.0  1400.0\n",
       "Italy        7  195.0   460.0\n",
       "US          10   65.0   245.0"
      ]
     },
     "execution_count": 116,
     "metadata": {},
     "output_type": "execute_result"
    }
   ],
   "source": [
    "# Analyze the range in price for perfect score wines by country:\n",
    "perfect_scores_df.groupby(['country']).price.agg([len, min, max])"
   ]
  },
  {
   "cell_type": "code",
   "execution_count": 117,
   "id": "fd2fde59",
   "metadata": {},
   "outputs": [
    {
     "data": {
      "text/plain": [
       "[<matplotlib.lines.Line2D at 0x22080fa1940>]"
      ]
     },
     "execution_count": 117,
     "metadata": {},
     "output_type": "execute_result"
    },
    {
     "data": {
      "image/png": "[encoded data removed]",
      "text/plain": [
       "<Figure size 432x288 with 1 Axes>"
      ]
     },
     "metadata": {
      "needs_background": "light"
     },
     "output_type": "display_data"
    }
   ],
   "source": [
    "plt.plot(df.index, df[\"price\"])"
   ]
  },
  {
   "cell_type": "code",
   "execution_count": 118,
   "id": "fbd287c3",
   "metadata": {},
   "outputs": [
    {
     "data": {
      "image/png": "[encoded data removed]",
      "text/plain": [
       "<Figure size 1008x432 with 1 Axes>"
      ]
     },
     "metadata": {
      "needs_background": "light"
     },
     "output_type": "display_data"
    }
   ],
   "source": [
    "fig, ax = plt.subplots(figsize=(14, 6))\n",
    "\n",
    "df.groupby(df['country'])['price'].mean().plot.bar()\n",
    "mean_price = df[\"price\"].mean(0)\n",
    "df[\"price\"].fillna(mean_price)\n",
    "\n",
    "# Creates labels\n",
    "ax.set_xlabel('country')\n",
    "ax.set_ylabel('Mean Price')\n",
    "# Sets the plot title\n",
    "ax.set_title(\"Mean Price per Country\")\n",
    "ax.legend(bbox_to_anchor=(1, 1), loc=2, title='Price')\n",
    "\n",
    "fig.tight_layout()"
   ]
  },
  {
   "cell_type": "code",
   "execution_count": 119,
   "id": "1301fe5b",
   "metadata": {},
   "outputs": [
    {
     "data": {
      "text/plain": [
       "<AxesSubplot:>"
      ]
     },
     "execution_count": 119,
     "metadata": {},
     "output_type": "execute_result"
    },
    {
     "data": {
      "image/png": "[encoded data removed]",
      "text/plain": [
       "<Figure size 432x288 with 1 Axes>"
      ]
     },
     "metadata": {
      "needs_background": "light"
     },
     "output_type": "display_data"
    }
   ],
   "source": [
    "df['province'].value_counts().head(10).plot.bar()"
   ]
  },
  {
   "cell_type": "code",
   "execution_count": 120,
   "id": "cb2813c2",
   "metadata": {},
   "outputs": [
    {
     "name": "stdout",
     "output_type": "stream",
     "text": [
      "The province with the most reviews is California    44356\n",
      "Name: province, dtype: int64\n"
     ]
    }
   ],
   "source": [
    "top_province = df['province'].value_counts().head(1)\n",
    "print(\"The province with the most reviews is {}\".format(top_province))"
   ]
  },
  {
   "cell_type": "code",
   "execution_count": 121,
   "id": "cf749acc",
   "metadata": {},
   "outputs": [
    {
     "data": {
      "text/plain": [
       "<AxesSubplot:>"
      ]
     },
     "execution_count": 121,
     "metadata": {},
     "output_type": "execute_result"
    },
    {
     "data": {
      "image/png": "[encoded data removed]",
      "text/plain": [
       "<Figure size 432x288 with 1 Axes>"
      ]
     },
     "metadata": {
      "needs_background": "light"
     },
     "output_type": "display_data"
    }
   ],
   "source": [
    "# Bar plot - points/reviews\n",
    "df['points'].value_counts().sort_index().plot.bar()"
   ]
  },
  {
   "cell_type": "code",
   "execution_count": 122,
   "id": "331cc2f2",
   "metadata": {},
   "outputs": [
    {
     "data": {
      "text/plain": [
       "<AxesSubplot:>"
      ]
     },
     "execution_count": 122,
     "metadata": {},
     "output_type": "execute_result"
    },
    {
     "data": {
      "image/png": "[encoded data removed]",
      "text/plain": [
       "<Figure size 432x288 with 1 Axes>"
      ]
     },
     "metadata": {
      "needs_background": "light"
     },
     "output_type": "display_data"
    }
   ],
   "source": [
    "df['points'].value_counts().sort_index().plot.line()"
   ]
  },
  {
   "cell_type": "code",
   "execution_count": 123,
   "id": "cef7a3a8",
   "metadata": {},
   "outputs": [
    {
     "name": "stderr",
     "output_type": "stream",
     "text": [
      "C:\\Users\\sivar\\anaconda3\\lib\\site-packages\\seaborn\\_decorators.py:36: FutureWarning: Pass the following variable as a keyword arg: x. From version 0.12, the only valid positional argument will be `data`, and passing other arguments without an explicit keyword will result in an error or misinterpretation.\n",
      "  warnings.warn(\n"
     ]
    },
    {
     "data": {
      "text/plain": [
       "<AxesSubplot:xlabel='points', ylabel='count'>"
      ]
     },
     "execution_count": 123,
     "metadata": {},
     "output_type": "execute_result"
    },
    {
     "data": {
      "image/png": "[encoded data removed]",
      "text/plain": [
       "<Figure size 432x288 with 1 Axes>"
      ]
     },
     "metadata": {
      "needs_background": "light"
     },
     "output_type": "display_data"
    }
   ],
   "source": [
    "sns.countplot(df['points'])"
   ]
  },
  {
   "cell_type": "code",
   "execution_count": 124,
   "id": "afb86398",
   "metadata": {},
   "outputs": [
    {
     "data": {
      "text/plain": [
       "<seaborn.axisgrid.JointGrid at 0x2206ec51670>"
      ]
     },
     "execution_count": 124,
     "metadata": {},
     "output_type": "execute_result"
    },
    {
     "data": {
      "image/png": "[encoded data removed]",
      "text/plain": [
       "<Figure size 432x432 with 3 Axes>"
      ]
     },
     "metadata": {
      "needs_background": "light"
     },
     "output_type": "display_data"
    }
   ],
   "source": [
    "sns.jointplot(x='price', y='points', data=df[df['price'] < 500])"
   ]
  },
  {
   "cell_type": "code",
   "execution_count": 125,
   "id": "cef0ddb0",
   "metadata": {},
   "outputs": [
    {
     "data": {
      "text/plain": [
       "<seaborn.axisgrid.JointGrid at 0x2206ecd42e0>"
      ]
     },
     "execution_count": 125,
     "metadata": {},
     "output_type": "execute_result"
    },
    {
     "data": {
      "image/png": "[encoded data removed]",
      "text/plain": [
       "<Figure size 432x432 with 3 Axes>"
      ]
     },
     "metadata": {
      "needs_background": "light"
     },
     "output_type": "display_data"
    }
   ],
   "source": [
    "sns.jointplot(x='price', y='points', data=df[df['price'] < 100])"
   ]
  },
  {
   "cell_type": "code",
   "execution_count": 126,
   "id": "e989389f",
   "metadata": {},
   "outputs": [
    {
     "data": {
      "text/plain": [
       "<seaborn.axisgrid.JointGrid at 0x2206ecbef10>"
      ]
     },
     "execution_count": 126,
     "metadata": {},
     "output_type": "execute_result"
    },
    {
     "data": {
      "image/png": "[encoded data removed]",
      "text/plain": [
       "<Figure size 432x432 with 3 Axes>"
      ]
     },
     "metadata": {
      "needs_background": "light"
     },
     "output_type": "display_data"
    }
   ],
   "source": [
    "\n",
    "sns.jointplot(x='price', y='points', data=df[df['price'] < 50])"
   ]
  },
  {
   "cell_type": "code",
   "execution_count": 127,
   "id": "d236dfba",
   "metadata": {},
   "outputs": [
    {
     "data": {
      "text/plain": [
       "<AxesSubplot:xlabel='price', ylabel='points'>"
      ]
     },
     "execution_count": 127,
     "metadata": {},
     "output_type": "execute_result"
    },
    {
     "data": {
      "image/png": "[encoded data removed]",
      "text/plain": [
       "<Figure size 432x288 with 1 Axes>"
      ]
     },
     "metadata": {
      "needs_background": "light"
     },
     "output_type": "display_data"
    }
   ],
   "source": [
    "sns.regplot(x=\"price\", y=\"points\", data=df)"
   ]
  },
  {
   "cell_type": "code",
   "execution_count": 136,
   "id": "2029e6e4",
   "metadata": {},
   "outputs": [],
   "source": [
    "cat = ['country', 'description', 'designation', 'province',\n",
    "       'region_1', 'region_2', 'variety', 'winery']"
   ]
  },
  {
   "cell_type": "code",
   "execution_count": 137,
   "id": "13b63065",
   "metadata": {},
   "outputs": [
    {
     "data": {
      "text/plain": [
       "Index(['country', 'description', 'designation', 'points', 'price', 'province',\n",
       "       'region_1', 'region_2', 'variety', 'winery'],\n",
       "      dtype='object')"
      ]
     },
     "execution_count": 137,
     "metadata": {},
     "output_type": "execute_result"
    }
   ],
   "source": [
    "df.columns"
   ]
  },
  {
   "cell_type": "code",
   "execution_count": 149,
   "id": "78b92be4",
   "metadata": {},
   "outputs": [
    {
     "data": {
      "text/html": [
       "<div>\n",
       "<style scoped>\n",
       "    .dataframe tbody tr th:only-of-type {\n",
       "        vertical-align: middle;\n",
       "    }\n",
       "\n",
       "    .dataframe tbody tr th {\n",
       "        vertical-align: top;\n",
       "    }\n",
       "\n",
       "    .dataframe thead th {\n",
       "        text-align: right;\n",
       "    }\n",
       "</style>\n",
       "<table border=\"1\" class=\"dataframe\">\n",
       "  <thead>\n",
       "    <tr style=\"text-align: right;\">\n",
       "      <th></th>\n",
       "      <th>country</th>\n",
       "      <th>description</th>\n",
       "      <th>designation</th>\n",
       "      <th>points</th>\n",
       "      <th>price</th>\n",
       "      <th>province</th>\n",
       "      <th>region_1</th>\n",
       "      <th>region_2</th>\n",
       "      <th>variety</th>\n",
       "      <th>winery</th>\n",
       "    </tr>\n",
       "  </thead>\n",
       "  <tbody>\n",
       "    <tr>\n",
       "      <th>150904</th>\n",
       "      <td>8</td>\n",
       "      <td>5863</td>\n",
       "      <td>28343</td>\n",
       "      <td>81</td>\n",
       "      <td>10.0</td>\n",
       "      <td>209</td>\n",
       "      <td>1197</td>\n",
       "      <td>18</td>\n",
       "      <td>69</td>\n",
       "      <td>4290</td>\n",
       "    </tr>\n",
       "    <tr>\n",
       "      <th>150905</th>\n",
       "      <td>8</td>\n",
       "      <td>66127</td>\n",
       "      <td>19483</td>\n",
       "      <td>80</td>\n",
       "      <td>13.0</td>\n",
       "      <td>209</td>\n",
       "      <td>1197</td>\n",
       "      <td>18</td>\n",
       "      <td>293</td>\n",
       "      <td>4290</td>\n",
       "    </tr>\n",
       "    <tr>\n",
       "      <th>150906</th>\n",
       "      <td>14</td>\n",
       "      <td>77432</td>\n",
       "      <td>5362</td>\n",
       "      <td>93</td>\n",
       "      <td>65.0</td>\n",
       "      <td>47</td>\n",
       "      <td>1173</td>\n",
       "      <td>18</td>\n",
       "      <td>394</td>\n",
       "      <td>8845</td>\n",
       "    </tr>\n",
       "    <tr>\n",
       "      <th>150907</th>\n",
       "      <td>14</td>\n",
       "      <td>50329</td>\n",
       "      <td>14350</td>\n",
       "      <td>92</td>\n",
       "      <td>52.0</td>\n",
       "      <td>47</td>\n",
       "      <td>1173</td>\n",
       "      <td>18</td>\n",
       "      <td>394</td>\n",
       "      <td>4239</td>\n",
       "    </tr>\n",
       "    <tr>\n",
       "      <th>150908</th>\n",
       "      <td>14</td>\n",
       "      <td>13880</td>\n",
       "      <td>1647</td>\n",
       "      <td>90</td>\n",
       "      <td>65.0</td>\n",
       "      <td>47</td>\n",
       "      <td>1173</td>\n",
       "      <td>18</td>\n",
       "      <td>394</td>\n",
       "      <td>8845</td>\n",
       "    </tr>\n",
       "    <tr>\n",
       "      <th>150909</th>\n",
       "      <td>14</td>\n",
       "      <td>73084</td>\n",
       "      <td>5326</td>\n",
       "      <td>89</td>\n",
       "      <td>52.0</td>\n",
       "      <td>47</td>\n",
       "      <td>737</td>\n",
       "      <td>18</td>\n",
       "      <td>394</td>\n",
       "      <td>4239</td>\n",
       "    </tr>\n",
       "    <tr>\n",
       "      <th>150910</th>\n",
       "      <td>14</td>\n",
       "      <td>52299</td>\n",
       "      <td>28343</td>\n",
       "      <td>89</td>\n",
       "      <td>38.0</td>\n",
       "      <td>47</td>\n",
       "      <td>187</td>\n",
       "      <td>18</td>\n",
       "      <td>394</td>\n",
       "      <td>8845</td>\n",
       "    </tr>\n",
       "    <tr>\n",
       "      <th>150911</th>\n",
       "      <td>14</td>\n",
       "      <td>77809</td>\n",
       "      <td>14399</td>\n",
       "      <td>87</td>\n",
       "      <td>37.0</td>\n",
       "      <td>47</td>\n",
       "      <td>737</td>\n",
       "      <td>18</td>\n",
       "      <td>394</td>\n",
       "      <td>8845</td>\n",
       "    </tr>\n",
       "    <tr>\n",
       "      <th>150912</th>\n",
       "      <td>14</td>\n",
       "      <td>63003</td>\n",
       "      <td>14418</td>\n",
       "      <td>87</td>\n",
       "      <td>65.0</td>\n",
       "      <td>47</td>\n",
       "      <td>187</td>\n",
       "      <td>18</td>\n",
       "      <td>394</td>\n",
       "      <td>4239</td>\n",
       "    </tr>\n",
       "    <tr>\n",
       "      <th>150913</th>\n",
       "      <td>14</td>\n",
       "      <td>35720</td>\n",
       "      <td>28343</td>\n",
       "      <td>94</td>\n",
       "      <td>30.0</td>\n",
       "      <td>324</td>\n",
       "      <td>215</td>\n",
       "      <td>18</td>\n",
       "      <td>422</td>\n",
       "      <td>7903</td>\n",
       "    </tr>\n",
       "    <tr>\n",
       "      <th>150914</th>\n",
       "      <td>42</td>\n",
       "      <td>44726</td>\n",
       "      <td>13818</td>\n",
       "      <td>94</td>\n",
       "      <td>25.0</td>\n",
       "      <td>51</td>\n",
       "      <td>38</td>\n",
       "      <td>6</td>\n",
       "      <td>606</td>\n",
       "      <td>9246</td>\n",
       "    </tr>\n",
       "    <tr>\n",
       "      <th>150915</th>\n",
       "      <td>42</td>\n",
       "      <td>22427</td>\n",
       "      <td>17313</td>\n",
       "      <td>93</td>\n",
       "      <td>30.0</td>\n",
       "      <td>51</td>\n",
       "      <td>732</td>\n",
       "      <td>10</td>\n",
       "      <td>604</td>\n",
       "      <td>1013</td>\n",
       "    </tr>\n",
       "    <tr>\n",
       "      <th>150916</th>\n",
       "      <td>42</td>\n",
       "      <td>13210</td>\n",
       "      <td>12249</td>\n",
       "      <td>93</td>\n",
       "      <td>65.0</td>\n",
       "      <td>51</td>\n",
       "      <td>708</td>\n",
       "      <td>7</td>\n",
       "      <td>105</td>\n",
       "      <td>11264</td>\n",
       "    </tr>\n",
       "    <tr>\n",
       "      <th>150917</th>\n",
       "      <td>14</td>\n",
       "      <td>38096</td>\n",
       "      <td>3357</td>\n",
       "      <td>92</td>\n",
       "      <td>30.0</td>\n",
       "      <td>72</td>\n",
       "      <td>188</td>\n",
       "      <td>18</td>\n",
       "      <td>105</td>\n",
       "      <td>7089</td>\n",
       "    </tr>\n",
       "    <tr>\n",
       "      <th>150918</th>\n",
       "      <td>14</td>\n",
       "      <td>36644</td>\n",
       "      <td>6634</td>\n",
       "      <td>92</td>\n",
       "      <td>38.0</td>\n",
       "      <td>72</td>\n",
       "      <td>188</td>\n",
       "      <td>18</td>\n",
       "      <td>105</td>\n",
       "      <td>7089</td>\n",
       "    </tr>\n",
       "    <tr>\n",
       "      <th>150919</th>\n",
       "      <td>14</td>\n",
       "      <td>69378</td>\n",
       "      <td>6679</td>\n",
       "      <td>91</td>\n",
       "      <td>37.0</td>\n",
       "      <td>72</td>\n",
       "      <td>188</td>\n",
       "      <td>18</td>\n",
       "      <td>105</td>\n",
       "      <td>6506</td>\n",
       "    </tr>\n",
       "    <tr>\n",
       "      <th>150920</th>\n",
       "      <td>21</td>\n",
       "      <td>49750</td>\n",
       "      <td>3392</td>\n",
       "      <td>91</td>\n",
       "      <td>19.0</td>\n",
       "      <td>271</td>\n",
       "      <td>1042</td>\n",
       "      <td>18</td>\n",
       "      <td>105</td>\n",
       "      <td>8004</td>\n",
       "    </tr>\n",
       "    <tr>\n",
       "      <th>150921</th>\n",
       "      <td>14</td>\n",
       "      <td>53266</td>\n",
       "      <td>2653</td>\n",
       "      <td>91</td>\n",
       "      <td>38.0</td>\n",
       "      <td>72</td>\n",
       "      <td>188</td>\n",
       "      <td>18</td>\n",
       "      <td>105</td>\n",
       "      <td>7089</td>\n",
       "    </tr>\n",
       "    <tr>\n",
       "      <th>150923</th>\n",
       "      <td>14</td>\n",
       "      <td>49888</td>\n",
       "      <td>7193</td>\n",
       "      <td>91</td>\n",
       "      <td>30.0</td>\n",
       "      <td>72</td>\n",
       "      <td>188</td>\n",
       "      <td>18</td>\n",
       "      <td>105</td>\n",
       "      <td>7089</td>\n",
       "    </tr>\n",
       "    <tr>\n",
       "      <th>150924</th>\n",
       "      <td>14</td>\n",
       "      <td>49142</td>\n",
       "      <td>7291</td>\n",
       "      <td>91</td>\n",
       "      <td>70.0</td>\n",
       "      <td>72</td>\n",
       "      <td>188</td>\n",
       "      <td>18</td>\n",
       "      <td>105</td>\n",
       "      <td>6648</td>\n",
       "    </tr>\n",
       "    <tr>\n",
       "      <th>150925</th>\n",
       "      <td>21</td>\n",
       "      <td>41381</td>\n",
       "      <td>28343</td>\n",
       "      <td>91</td>\n",
       "      <td>20.0</td>\n",
       "      <td>358</td>\n",
       "      <td>413</td>\n",
       "      <td>18</td>\n",
       "      <td>604</td>\n",
       "      <td>5685</td>\n",
       "    </tr>\n",
       "    <tr>\n",
       "      <th>150926</th>\n",
       "      <td>14</td>\n",
       "      <td>44606</td>\n",
       "      <td>6680</td>\n",
       "      <td>91</td>\n",
       "      <td>27.0</td>\n",
       "      <td>72</td>\n",
       "      <td>188</td>\n",
       "      <td>18</td>\n",
       "      <td>105</td>\n",
       "      <td>6506</td>\n",
       "    </tr>\n",
       "    <tr>\n",
       "      <th>150927</th>\n",
       "      <td>21</td>\n",
       "      <td>69363</td>\n",
       "      <td>24543</td>\n",
       "      <td>91</td>\n",
       "      <td>20.0</td>\n",
       "      <td>358</td>\n",
       "      <td>413</td>\n",
       "      <td>18</td>\n",
       "      <td>604</td>\n",
       "      <td>12281</td>\n",
       "    </tr>\n",
       "    <tr>\n",
       "      <th>150928</th>\n",
       "      <td>14</td>\n",
       "      <td>6806</td>\n",
       "      <td>10653</td>\n",
       "      <td>90</td>\n",
       "      <td>52.0</td>\n",
       "      <td>72</td>\n",
       "      <td>188</td>\n",
       "      <td>18</td>\n",
       "      <td>105</td>\n",
       "      <td>6312</td>\n",
       "    </tr>\n",
       "    <tr>\n",
       "      <th>150929</th>\n",
       "      <td>21</td>\n",
       "      <td>42418</td>\n",
       "      <td>28343</td>\n",
       "      <td>90</td>\n",
       "      <td>15.0</td>\n",
       "      <td>271</td>\n",
       "      <td>26</td>\n",
       "      <td>18</td>\n",
       "      <td>388</td>\n",
       "      <td>303</td>\n",
       "    </tr>\n",
       "  </tbody>\n",
       "</table>\n",
       "</div>"
      ],
      "text/plain": [
       "        country  description  designation  points  price  province  region_1  \\\n",
       "150904        8         5863        28343      81   10.0       209      1197   \n",
       "150905        8        66127        19483      80   13.0       209      1197   \n",
       "150906       14        77432         5362      93   65.0        47      1173   \n",
       "150907       14        50329        14350      92   52.0        47      1173   \n",
       "150908       14        13880         1647      90   65.0        47      1173   \n",
       "150909       14        73084         5326      89   52.0        47       737   \n",
       "150910       14        52299        28343      89   38.0        47       187   \n",
       "150911       14        77809        14399      87   37.0        47       737   \n",
       "150912       14        63003        14418      87   65.0        47       187   \n",
       "150913       14        35720        28343      94   30.0       324       215   \n",
       "150914       42        44726        13818      94   25.0        51        38   \n",
       "150915       42        22427        17313      93   30.0        51       732   \n",
       "150916       42        13210        12249      93   65.0        51       708   \n",
       "150917       14        38096         3357      92   30.0        72       188   \n",
       "150918       14        36644         6634      92   38.0        72       188   \n",
       "150919       14        69378         6679      91   37.0        72       188   \n",
       "150920       21        49750         3392      91   19.0       271      1042   \n",
       "150921       14        53266         2653      91   38.0        72       188   \n",
       "150923       14        49888         7193      91   30.0        72       188   \n",
       "150924       14        49142         7291      91   70.0        72       188   \n",
       "150925       21        41381        28343      91   20.0       358       413   \n",
       "150926       14        44606         6680      91   27.0        72       188   \n",
       "150927       21        69363        24543      91   20.0       358       413   \n",
       "150928       14         6806        10653      90   52.0        72       188   \n",
       "150929       21        42418        28343      90   15.0       271        26   \n",
       "\n",
       "        region_2  variety  winery  \n",
       "150904        18       69    4290  \n",
       "150905        18      293    4290  \n",
       "150906        18      394    8845  \n",
       "150907        18      394    4239  \n",
       "150908        18      394    8845  \n",
       "150909        18      394    4239  \n",
       "150910        18      394    8845  \n",
       "150911        18      394    8845  \n",
       "150912        18      394    4239  \n",
       "150913        18      422    7903  \n",
       "150914         6      606    9246  \n",
       "150915        10      604    1013  \n",
       "150916         7      105   11264  \n",
       "150917        18      105    7089  \n",
       "150918        18      105    7089  \n",
       "150919        18      105    6506  \n",
       "150920        18      105    8004  \n",
       "150921        18      105    7089  \n",
       "150923        18      105    7089  \n",
       "150924        18      105    6648  \n",
       "150925        18      604    5685  \n",
       "150926        18      105    6506  \n",
       "150927        18      604   12281  \n",
       "150928        18      105    6312  \n",
       "150929        18      388     303  "
      ]
     },
     "execution_count": 149,
     "metadata": {},
     "output_type": "execute_result"
    }
   ],
   "source": [
    "from sklearn.preprocessing import LabelEncoder\n",
    "le = LabelEncoder()\n",
    "for i in cat:\n",
    "    df[i] = le.fit_transform(df[i])\n",
    "\n",
    "df.head(5)\n"
   ]
  },
  {
   "cell_type": "code",
   "execution_count": 139,
   "id": "5e71f186",
   "metadata": {},
   "outputs": [],
   "source": [
    "df_copy=df.copy()"
   ]
  },
  {
   "cell_type": "code",
   "execution_count": 151,
   "id": "5576fe8c",
   "metadata": {},
   "outputs": [],
   "source": [
    "X = df_copy.drop([\"points\"],axis=1)\n",
    "y = df_copy[\"points\"]"
   ]
  },
  {
   "cell_type": "code",
   "execution_count": 152,
   "id": "cb7d2087",
   "metadata": {},
   "outputs": [
    {
     "data": {
      "text/html": [
       "<div>\n",
       "<style scoped>\n",
       "    .dataframe tbody tr th:only-of-type {\n",
       "        vertical-align: middle;\n",
       "    }\n",
       "\n",
       "    .dataframe tbody tr th {\n",
       "        vertical-align: top;\n",
       "    }\n",
       "\n",
       "    .dataframe thead th {\n",
       "        text-align: right;\n",
       "    }\n",
       "</style>\n",
       "<table border=\"1\" class=\"dataframe\">\n",
       "  <thead>\n",
       "    <tr style=\"text-align: right;\">\n",
       "      <th></th>\n",
       "      <th>country</th>\n",
       "      <th>description</th>\n",
       "      <th>designation</th>\n",
       "      <th>points</th>\n",
       "      <th>price</th>\n",
       "      <th>province</th>\n",
       "      <th>region_1</th>\n",
       "      <th>region_2</th>\n",
       "      <th>variety</th>\n",
       "      <th>winery</th>\n",
       "    </tr>\n",
       "  </thead>\n",
       "  <tbody>\n",
       "    <tr>\n",
       "      <th>country</th>\n",
       "      <td>1.000000</td>\n",
       "      <td>0.027708</td>\n",
       "      <td>0.052235</td>\n",
       "      <td>0.000390</td>\n",
       "      <td>0.001176</td>\n",
       "      <td>-0.238449</td>\n",
       "      <td>-0.037492</td>\n",
       "      <td>-0.667665</td>\n",
       "      <td>0.075436</td>\n",
       "      <td>0.027279</td>\n",
       "    </tr>\n",
       "    <tr>\n",
       "      <th>description</th>\n",
       "      <td>0.027708</td>\n",
       "      <td>1.000000</td>\n",
       "      <td>0.005007</td>\n",
       "      <td>0.006560</td>\n",
       "      <td>0.020074</td>\n",
       "      <td>0.036747</td>\n",
       "      <td>-0.021949</td>\n",
       "      <td>-0.030936</td>\n",
       "      <td>-0.002518</td>\n",
       "      <td>0.018958</td>\n",
       "    </tr>\n",
       "    <tr>\n",
       "      <th>designation</th>\n",
       "      <td>0.052235</td>\n",
       "      <td>0.005007</td>\n",
       "      <td>1.000000</td>\n",
       "      <td>-0.127542</td>\n",
       "      <td>-0.091860</td>\n",
       "      <td>-0.016127</td>\n",
       "      <td>-0.026839</td>\n",
       "      <td>-0.072125</td>\n",
       "      <td>-0.045746</td>\n",
       "      <td>0.009240</td>\n",
       "    </tr>\n",
       "    <tr>\n",
       "      <th>points</th>\n",
       "      <td>0.000390</td>\n",
       "      <td>0.006560</td>\n",
       "      <td>-0.127542</td>\n",
       "      <td>1.000000</td>\n",
       "      <td>0.459869</td>\n",
       "      <td>0.069231</td>\n",
       "      <td>-0.035606</td>\n",
       "      <td>0.026747</td>\n",
       "      <td>-0.043915</td>\n",
       "      <td>0.003485</td>\n",
       "    </tr>\n",
       "    <tr>\n",
       "      <th>price</th>\n",
       "      <td>0.001176</td>\n",
       "      <td>0.020074</td>\n",
       "      <td>-0.091860</td>\n",
       "      <td>0.459869</td>\n",
       "      <td>1.000000</td>\n",
       "      <td>-0.044592</td>\n",
       "      <td>-0.065605</td>\n",
       "      <td>0.018086</td>\n",
       "      <td>-0.078923</td>\n",
       "      <td>-0.010914</td>\n",
       "    </tr>\n",
       "    <tr>\n",
       "      <th>province</th>\n",
       "      <td>-0.238449</td>\n",
       "      <td>0.036747</td>\n",
       "      <td>-0.016127</td>\n",
       "      <td>0.069231</td>\n",
       "      <td>-0.044592</td>\n",
       "      <td>1.000000</td>\n",
       "      <td>0.037944</td>\n",
       "      <td>0.264198</td>\n",
       "      <td>0.102092</td>\n",
       "      <td>0.006908</td>\n",
       "    </tr>\n",
       "    <tr>\n",
       "      <th>region_1</th>\n",
       "      <td>-0.037492</td>\n",
       "      <td>-0.021949</td>\n",
       "      <td>-0.026839</td>\n",
       "      <td>-0.035606</td>\n",
       "      <td>-0.065605</td>\n",
       "      <td>0.037944</td>\n",
       "      <td>1.000000</td>\n",
       "      <td>0.186915</td>\n",
       "      <td>0.054559</td>\n",
       "      <td>0.057816</td>\n",
       "    </tr>\n",
       "    <tr>\n",
       "      <th>region_2</th>\n",
       "      <td>-0.667665</td>\n",
       "      <td>-0.030936</td>\n",
       "      <td>-0.072125</td>\n",
       "      <td>0.026747</td>\n",
       "      <td>0.018086</td>\n",
       "      <td>0.264198</td>\n",
       "      <td>0.186915</td>\n",
       "      <td>1.000000</td>\n",
       "      <td>0.043311</td>\n",
       "      <td>-0.036697</td>\n",
       "    </tr>\n",
       "    <tr>\n",
       "      <th>variety</th>\n",
       "      <td>0.075436</td>\n",
       "      <td>-0.002518</td>\n",
       "      <td>-0.045746</td>\n",
       "      <td>-0.043915</td>\n",
       "      <td>-0.078923</td>\n",
       "      <td>0.102092</td>\n",
       "      <td>0.054559</td>\n",
       "      <td>0.043311</td>\n",
       "      <td>1.000000</td>\n",
       "      <td>0.023895</td>\n",
       "    </tr>\n",
       "    <tr>\n",
       "      <th>winery</th>\n",
       "      <td>0.027279</td>\n",
       "      <td>0.018958</td>\n",
       "      <td>0.009240</td>\n",
       "      <td>0.003485</td>\n",
       "      <td>-0.010914</td>\n",
       "      <td>0.006908</td>\n",
       "      <td>0.057816</td>\n",
       "      <td>-0.036697</td>\n",
       "      <td>0.023895</td>\n",
       "      <td>1.000000</td>\n",
       "    </tr>\n",
       "  </tbody>\n",
       "</table>\n",
       "</div>"
      ],
      "text/plain": [
       "              country  description  designation    points     price  province  \\\n",
       "country      1.000000     0.027708     0.052235  0.000390  0.001176 -0.238449   \n",
       "description  0.027708     1.000000     0.005007  0.006560  0.020074  0.036747   \n",
       "designation  0.052235     0.005007     1.000000 -0.127542 -0.091860 -0.016127   \n",
       "points       0.000390     0.006560    -0.127542  1.000000  0.459869  0.069231   \n",
       "price        0.001176     0.020074    -0.091860  0.459869  1.000000 -0.044592   \n",
       "province    -0.238449     0.036747    -0.016127  0.069231 -0.044592  1.000000   \n",
       "region_1    -0.037492    -0.021949    -0.026839 -0.035606 -0.065605  0.037944   \n",
       "region_2    -0.667665    -0.030936    -0.072125  0.026747  0.018086  0.264198   \n",
       "variety      0.075436    -0.002518    -0.045746 -0.043915 -0.078923  0.102092   \n",
       "winery       0.027279     0.018958     0.009240  0.003485 -0.010914  0.006908   \n",
       "\n",
       "             region_1  region_2   variety    winery  \n",
       "country     -0.037492 -0.667665  0.075436  0.027279  \n",
       "description -0.021949 -0.030936 -0.002518  0.018958  \n",
       "designation -0.026839 -0.072125 -0.045746  0.009240  \n",
       "points      -0.035606  0.026747 -0.043915  0.003485  \n",
       "price       -0.065605  0.018086 -0.078923 -0.010914  \n",
       "province     0.037944  0.264198  0.102092  0.006908  \n",
       "region_1     1.000000  0.186915  0.054559  0.057816  \n",
       "region_2     0.186915  1.000000  0.043311 -0.036697  \n",
       "variety      0.054559  0.043311  1.000000  0.023895  \n",
       "winery       0.057816 -0.036697  0.023895  1.000000  "
      ]
     },
     "execution_count": 152,
     "metadata": {},
     "output_type": "execute_result"
    }
   ],
   "source": [
    "df_copy.corr()"
   ]
  },
  {
   "cell_type": "code",
   "execution_count": 153,
   "id": "4efa0a09",
   "metadata": {},
   "outputs": [
    {
     "data": {
      "text/plain": [
       "<AxesSubplot:>"
      ]
     },
     "execution_count": 153,
     "metadata": {},
     "output_type": "execute_result"
    },
    {
     "data": {
      "image/png": "[encoded data removed]",
      "text/plain": [
       "<Figure size 432x288 with 2 Axes>"
      ]
     },
     "metadata": {
      "needs_background": "light"
     },
     "output_type": "display_data"
    }
   ],
   "source": [
    "sns.heatmap(df_copy.corr())"
   ]
  },
  {
   "cell_type": "code",
   "execution_count": 154,
   "id": "13905aad",
   "metadata": {},
   "outputs": [
    {
     "name": "stdout",
     "output_type": "stream",
     "text": [
      "<class 'pandas.core.frame.DataFrame'>\n",
      "Int64Index: 137230 entries, 0 to 150929\n",
      "Data columns (total 10 columns):\n",
      " #   Column       Non-Null Count   Dtype  \n",
      "---  ------       --------------   -----  \n",
      " 0   country      137230 non-null  int32  \n",
      " 1   description  137230 non-null  int32  \n",
      " 2   designation  137230 non-null  int32  \n",
      " 3   points       137230 non-null  int64  \n",
      " 4   price        137230 non-null  float64\n",
      " 5   province     137230 non-null  int32  \n",
      " 6   region_1     137230 non-null  int32  \n",
      " 7   region_2     137230 non-null  int32  \n",
      " 8   variety      137230 non-null  int32  \n",
      " 9   winery       137230 non-null  int32  \n",
      "dtypes: float64(1), int32(8), int64(1)\n",
      "memory usage: 7.3 MB\n"
     ]
    }
   ],
   "source": [
    "df_copy.info()"
   ]
  },
  {
   "cell_type": "code",
   "execution_count": 155,
   "id": "0b983529",
   "metadata": {},
   "outputs": [],
   "source": [
    "from sklearn.model_selection import train_test_split\n",
    "from sklearn.metrics import accuracy_score"
   ]
  },
  {
   "cell_type": "code",
   "execution_count": 156,
   "id": "d15e0cc1",
   "metadata": {},
   "outputs": [],
   "source": [
    "X_train,X_test,y_train,y_test = train_test_split(X,y,test_size = 0.3,random_state = 1234)"
   ]
  },
  {
   "cell_type": "code",
   "execution_count": 157,
   "id": "7efb3deb",
   "metadata": {},
   "outputs": [
    {
     "data": {
      "text/plain": [
       "((96061, 9), (41169, 9), (96061,), (41169,))"
      ]
     },
     "execution_count": 157,
     "metadata": {},
     "output_type": "execute_result"
    }
   ],
   "source": [
    "X_train.shape , X_test.shape , y_train.shape , y_test.shape"
   ]
  },
  {
   "cell_type": "code",
   "execution_count": 158,
   "id": "198f026e",
   "metadata": {},
   "outputs": [
    {
     "name": "stderr",
     "output_type": "stream",
     "text": [
      "C:\\Users\\sivar\\anaconda3\\lib\\site-packages\\sklearn\\linear_model\\_logistic.py:814: ConvergenceWarning: lbfgs failed to converge (status=1):\n",
      "STOP: TOTAL NO. of ITERATIONS REACHED LIMIT.\n",
      "\n",
      "Increase the number of iterations (max_iter) or scale the data as shown in:\n",
      "    https://scikit-learn.org/stable/modules/preprocessing.html\n",
      "Please also refer to the documentation for alternative solver options:\n",
      "    https://scikit-learn.org/stable/modules/linear_model.html#logistic-regression\n",
      "  n_iter_i = _check_optimize_result(\n"
     ]
    },
    {
     "data": {
      "text/plain": [
       "array([87, 87, 87, ..., 87, 87, 87], dtype=int64)"
      ]
     },
     "execution_count": 158,
     "metadata": {},
     "output_type": "execute_result"
    }
   ],
   "source": [
    "from sklearn.linear_model import LogisticRegression\n",
    "log = LogisticRegression()\n",
    "log.fit(X_train,y_train)\n",
    "y_predict=log.predict(X_test)\n",
    "y_predict"
   ]
  },
  {
   "cell_type": "code",
   "execution_count": 159,
   "id": "52a679a1",
   "metadata": {},
   "outputs": [
    {
     "data": {
      "text/plain": [
       "13.995967839879523"
      ]
     },
     "execution_count": 159,
     "metadata": {},
     "output_type": "execute_result"
    }
   ],
   "source": [
    "accuracy_score(y_test,y_predict)*100"
   ]
  },
  {
   "cell_type": "code",
   "execution_count": 160,
   "id": "c2b42453",
   "metadata": {},
   "outputs": [
    {
     "data": {
      "text/plain": [
       "array([89, 88, 85, ..., 84, 85, 82], dtype=int64)"
      ]
     },
     "execution_count": 160,
     "metadata": {},
     "output_type": "execute_result"
    }
   ],
   "source": [
    "from sklearn.neighbors import KNeighborsClassifier\n",
    "model = KNeighborsClassifier()\n",
    "model.fit(X_train,y_train)\n",
    "y_predict = model.predict(X_test)\n",
    "y_predict"
   ]
  },
  {
   "cell_type": "code",
   "execution_count": 161,
   "id": "62af342d",
   "metadata": {},
   "outputs": [
    {
     "data": {
      "text/plain": [
       "22.504797298938524"
      ]
     },
     "execution_count": 161,
     "metadata": {},
     "output_type": "execute_result"
    }
   ],
   "source": [
    "accuracy_score(y_test,y_predict)*100"
   ]
  },
  {
   "cell_type": "code",
   "execution_count": 162,
   "id": "d3c8e7b0",
   "metadata": {},
   "outputs": [
    {
     "data": {
      "text/plain": [
       "array([93, 93, 93, ..., 93, 93, 93], dtype=int64)"
      ]
     },
     "execution_count": 162,
     "metadata": {},
     "output_type": "execute_result"
    }
   ],
   "source": [
    "from sklearn.linear_model import LogisticRegression,SGDClassifier\n",
    "model = SGDClassifier()\n",
    "model.fit(X_train,y_train)\n",
    "y_predict = model.predict(X_test)\n",
    "y_predict"
   ]
  },
  {
   "cell_type": "code",
   "execution_count": 163,
   "id": "74742252",
   "metadata": {},
   "outputs": [
    {
     "data": {
      "text/plain": [
       "5.5162865262697665"
      ]
     },
     "execution_count": 163,
     "metadata": {},
     "output_type": "execute_result"
    }
   ],
   "source": [
    "accuracy_score(y_test,y_predict)*100"
   ]
  },
  {
   "cell_type": "code",
   "execution_count": 164,
   "id": "2069c6b1",
   "metadata": {},
   "outputs": [
    {
     "data": {
      "text/plain": [
       "array([92, 86, 90, ..., 90, 89, 88], dtype=int64)"
      ]
     },
     "execution_count": 164,
     "metadata": {},
     "output_type": "execute_result"
    }
   ],
   "source": [
    "from sklearn.ensemble import RandomForestClassifier\n",
    "Rmodel = RandomForestClassifier()\n",
    "Rmodel.fit(X_train,y_train)\n",
    "y_predict = Rmodel.predict(X_test)\n",
    "y_predict"
   ]
  },
  {
   "cell_type": "code",
   "execution_count": 165,
   "id": "601d1dcc",
   "metadata": {},
   "outputs": [
    {
     "data": {
      "text/plain": [
       "57.16437125021254"
      ]
     },
     "execution_count": 165,
     "metadata": {},
     "output_type": "execute_result"
    }
   ],
   "source": [
    "accuracy_score(y_test,y_predict)*100"
   ]
  },
  {
   "cell_type": "code",
   "execution_count": 166,
   "id": "a5e2cd45",
   "metadata": {},
   "outputs": [
    {
     "data": {
      "text/plain": [
       "array([92, 87, 90, ..., 90, 89, 88], dtype=int64)"
      ]
     },
     "execution_count": 166,
     "metadata": {},
     "output_type": "execute_result"
    }
   ],
   "source": [
    "from sklearn.tree import DecisionTreeClassifier\n",
    "dt = DecisionTreeClassifier()\n",
    "dt.fit(X_train, y_train)\n",
    "y_predict= dt.predict(X_test)\n",
    "y_predict"
   ]
  },
  {
   "cell_type": "code",
   "execution_count": 167,
   "id": "d3e451bd",
   "metadata": {},
   "outputs": [
    {
     "data": {
      "text/plain": [
       "55.580655347470184"
      ]
     },
     "execution_count": 167,
     "metadata": {},
     "output_type": "execute_result"
    }
   ],
   "source": [
    "accuracy_score(y_test,y_predict)*100"
   ]
  },
  {
   "cell_type": "code",
   "execution_count": 168,
   "id": "c3e2f065",
   "metadata": {},
   "outputs": [],
   "source": [
    "import pickle\n",
    "pickle.dump(log, open('WineReviews.pkl', 'wb'))"
   ]
  },
  {
   "cell_type": "code",
   "execution_count": 173,
   "id": "5f172d44",
   "metadata": {},
   "outputs": [],
   "source": [
    "import pickle\n",
    "\n",
    "def wine_review(features):\n",
    "    \n",
    "    pickled_model = pickle.load(open('WineReviews.pkl', 'rb'))\n",
    "    review= str(round(list(pickled_model.predict([features]))[0]))\n",
    "    \n",
    "    return str(\"wine point \"  + review)"
   ]
  },
  {
   "cell_type": "code",
   "execution_count": 174,
   "id": "0a1b10b8",
   "metadata": {},
   "outputs": [
    {
     "data": {
      "text/plain": [
       "[42.0, 84373.0, 28343.0, 13.0, 51.0, 146.0, 0.0, 69.0, 6422.0]"
      ]
     },
     "execution_count": 174,
     "metadata": {},
     "output_type": "execute_result"
    }
   ],
   "source": [
    "import random\n",
    "test_features  = list(X_test.iloc[random.randint(0,41170),:])\n",
    "test_features"
   ]
  },
  {
   "cell_type": "code",
   "execution_count": 175,
   "id": "9c58bb72",
   "metadata": {},
   "outputs": [
    {
     "name": "stderr",
     "output_type": "stream",
     "text": [
      "C:\\Users\\sivar\\anaconda3\\lib\\site-packages\\sklearn\\base.py:450: UserWarning: X does not have valid feature names, but LogisticRegression was fitted with feature names\n",
      "  warnings.warn(\n"
     ]
    },
    {
     "data": {
      "text/plain": [
       "'wine point 87'"
      ]
     },
     "execution_count": 175,
     "metadata": {},
     "output_type": "execute_result"
    }
   ],
   "source": [
    "wine_review(test_features)"
   ]
  },
  {
   "cell_type": "code",
   "execution_count": null,
   "id": "503de74b",
   "metadata": {},
   "outputs": [],
   "source": []
  }
 ],
 "metadata": {
  "kernelspec": {
   "display_name": "Python 3 (ipykernel)",
   "language": "python",
   "name": "python3"
  },
  "language_info": {
   "codemirror_mode": {
    "name": "ipython",
    "version": 3
   },
   "file_extension": ".py",
   "mimetype": "text/x-python",
   "name": "python",
   "nbconvert_exporter": "python",
   "pygments_lexer": "ipython3",
   "version": "3.9.7"
  }
 },
 "nbformat": 4,
 "nbformat_minor": 5
}
